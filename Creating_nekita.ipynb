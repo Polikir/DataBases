{
 "cells": [
  {
   "cell_type": "code",
   "execution_count": 1,
   "metadata": {},
   "outputs": [],
   "source": [
    "import pandas as pd\n",
    "import numpy as np"
   ]
  },
  {
   "cell_type": "code",
   "execution_count": 2,
   "metadata": {},
   "outputs": [],
   "source": [
    "first = pd.read_csv('./DBS_Nekita/netflix_titles.csv')"
   ]
  },
  {
   "cell_type": "code",
   "execution_count": 5,
   "metadata": {
    "scrolled": true
   },
   "outputs": [
    {
     "data": {
      "text/html": [
       "<div>\n",
       "<style scoped>\n",
       "    .dataframe tbody tr th:only-of-type {\n",
       "        vertical-align: middle;\n",
       "    }\n",
       "\n",
       "    .dataframe tbody tr th {\n",
       "        vertical-align: top;\n",
       "    }\n",
       "\n",
       "    .dataframe thead th {\n",
       "        text-align: right;\n",
       "    }\n",
       "</style>\n",
       "<table border=\"1\" class=\"dataframe\">\n",
       "  <thead>\n",
       "    <tr style=\"text-align: right;\">\n",
       "      <th></th>\n",
       "      <th>show_id</th>\n",
       "      <th>type</th>\n",
       "      <th>title</th>\n",
       "      <th>director</th>\n",
       "      <th>cast</th>\n",
       "      <th>country</th>\n",
       "      <th>date_added</th>\n",
       "      <th>release_year</th>\n",
       "      <th>rating</th>\n",
       "      <th>duration</th>\n",
       "      <th>listed_in</th>\n",
       "      <th>description</th>\n",
       "    </tr>\n",
       "  </thead>\n",
       "  <tbody>\n",
       "    <tr>\n",
       "      <th>0</th>\n",
       "      <td>s1</td>\n",
       "      <td>Movie</td>\n",
       "      <td>Dick Johnson Is Dead</td>\n",
       "      <td>Kirsten Johnson</td>\n",
       "      <td>NaN</td>\n",
       "      <td>United States</td>\n",
       "      <td>September 25, 2021</td>\n",
       "      <td>2020</td>\n",
       "      <td>PG-13</td>\n",
       "      <td>90 min</td>\n",
       "      <td>Documentaries</td>\n",
       "      <td>As her father nears the end of his life, filmm...</td>\n",
       "    </tr>\n",
       "    <tr>\n",
       "      <th>1</th>\n",
       "      <td>s2</td>\n",
       "      <td>TV Show</td>\n",
       "      <td>Blood &amp; Water</td>\n",
       "      <td>NaN</td>\n",
       "      <td>Ama Qamata, Khosi Ngema, Gail Mabalane, Thaban...</td>\n",
       "      <td>South Africa</td>\n",
       "      <td>September 24, 2021</td>\n",
       "      <td>2021</td>\n",
       "      <td>TV-MA</td>\n",
       "      <td>2 Seasons</td>\n",
       "      <td>International TV Shows, TV Dramas, TV Mysteries</td>\n",
       "      <td>After crossing paths at a party, a Cape Town t...</td>\n",
       "    </tr>\n",
       "    <tr>\n",
       "      <th>2</th>\n",
       "      <td>s3</td>\n",
       "      <td>TV Show</td>\n",
       "      <td>Ganglands</td>\n",
       "      <td>Julien Leclercq</td>\n",
       "      <td>Sami Bouajila, Tracy Gotoas, Samuel Jouy, Nabi...</td>\n",
       "      <td>NaN</td>\n",
       "      <td>September 24, 2021</td>\n",
       "      <td>2021</td>\n",
       "      <td>TV-MA</td>\n",
       "      <td>1 Season</td>\n",
       "      <td>Crime TV Shows, International TV Shows, TV Act...</td>\n",
       "      <td>To protect his family from a powerful drug lor...</td>\n",
       "    </tr>\n",
       "  </tbody>\n",
       "</table>\n",
       "</div>"
      ],
      "text/plain": [
       "  show_id     type                 title         director  \\\n",
       "0      s1    Movie  Dick Johnson Is Dead  Kirsten Johnson   \n",
       "1      s2  TV Show         Blood & Water              NaN   \n",
       "2      s3  TV Show             Ganglands  Julien Leclercq   \n",
       "\n",
       "                                                cast        country  \\\n",
       "0                                                NaN  United States   \n",
       "1  Ama Qamata, Khosi Ngema, Gail Mabalane, Thaban...   South Africa   \n",
       "2  Sami Bouajila, Tracy Gotoas, Samuel Jouy, Nabi...            NaN   \n",
       "\n",
       "           date_added  release_year rating   duration  \\\n",
       "0  September 25, 2021          2020  PG-13     90 min   \n",
       "1  September 24, 2021          2021  TV-MA  2 Seasons   \n",
       "2  September 24, 2021          2021  TV-MA   1 Season   \n",
       "\n",
       "                                           listed_in  \\\n",
       "0                                      Documentaries   \n",
       "1    International TV Shows, TV Dramas, TV Mysteries   \n",
       "2  Crime TV Shows, International TV Shows, TV Act...   \n",
       "\n",
       "                                         description  \n",
       "0  As her father nears the end of his life, filmm...  \n",
       "1  After crossing paths at a party, a Cape Town t...  \n",
       "2  To protect his family from a powerful drug lor...  "
      ]
     },
     "execution_count": 5,
     "metadata": {},
     "output_type": "execute_result"
    }
   ],
   "source": [
    "first.head(3)"
   ]
  },
  {
   "cell_type": "code",
   "execution_count": null,
   "metadata": {},
   "outputs": [],
   "source": []
  },
  {
   "cell_type": "code",
   "execution_count": 44,
   "metadata": {},
   "outputs": [],
   "source": [
    "film = pd.DataFrame()"
   ]
  },
  {
   "cell_type": "code",
   "execution_count": 45,
   "metadata": {},
   "outputs": [],
   "source": [
    "def random_data(a,b):\n",
    "    return f'{np.random.randint(1,28)}-{np.random.randint(1,13)}-{np.random.randint(a,b)}'"
   ]
  },
  {
   "cell_type": "code",
   "execution_count": 46,
   "metadata": {},
   "outputs": [],
   "source": [
    "def conv_time(x):\n",
    "    ar = x.split('-')\n",
    "    ret = ''\n",
    "    if int(ar[0])>9:\n",
    "        ret = ret+ar[0]\n",
    "    else:\n",
    "        ret = ret+'0'+ar[0]\n",
    "    ret = '-'+ret\n",
    "    if int(ar[1])>9:\n",
    "        ret = ar[1]+ret\n",
    "    else:\n",
    "        ret = '0'+ar[1]+ret\n",
    "    return ar[2]+'-'+ret"
   ]
  },
  {
   "cell_type": "code",
   "execution_count": 47,
   "metadata": {},
   "outputs": [],
   "source": [
    "film = pd.DataFrame()\n",
    "film['rate'] = np.random.randint(0,11,2000)\n",
    "film['Категория'] = first['type'][:2000]\n",
    "film['Название'] = first['title'][:2000]\n",
    "film['Описание'] = first['description'][:2000]\n",
    "film['limit'] = [np.random.choice([0,6,12,16,18]) for i in range(2000)]\n"
   ]
  },
  {
   "cell_type": "code",
   "execution_count": 48,
   "metadata": {},
   "outputs": [],
   "source": [
    "film['дата'] = first['release_year'].apply(lambda x: conv_time(random_data(x,x+1)))[:2000]"
   ]
  },
  {
   "cell_type": "code",
   "execution_count": 49,
   "metadata": {},
   "outputs": [],
   "source": [
    "film['country'] = first['country'].fillna('United States')[:2000]"
   ]
  },
  {
   "cell_type": "code",
   "execution_count": 50,
   "metadata": {},
   "outputs": [],
   "source": [
    "film['trailer'] = first['title'].apply(lambda x: x + '(trailer)')[:2000]"
   ]
  },
  {
   "cell_type": "code",
   "execution_count": 51,
   "metadata": {},
   "outputs": [
    {
     "data": {
      "text/html": [
       "<div>\n",
       "<style scoped>\n",
       "    .dataframe tbody tr th:only-of-type {\n",
       "        vertical-align: middle;\n",
       "    }\n",
       "\n",
       "    .dataframe tbody tr th {\n",
       "        vertical-align: top;\n",
       "    }\n",
       "\n",
       "    .dataframe thead th {\n",
       "        text-align: right;\n",
       "    }\n",
       "</style>\n",
       "<table border=\"1\" class=\"dataframe\">\n",
       "  <thead>\n",
       "    <tr style=\"text-align: right;\">\n",
       "      <th></th>\n",
       "      <th>rate</th>\n",
       "      <th>Категория</th>\n",
       "      <th>Название</th>\n",
       "      <th>Описание</th>\n",
       "      <th>limit</th>\n",
       "      <th>дата</th>\n",
       "      <th>country</th>\n",
       "      <th>trailer</th>\n",
       "    </tr>\n",
       "  </thead>\n",
       "  <tbody>\n",
       "    <tr>\n",
       "      <th>0</th>\n",
       "      <td>4</td>\n",
       "      <td>Movie</td>\n",
       "      <td>Dick Johnson Is Dead</td>\n",
       "      <td>As her father nears the end of his life, filmm...</td>\n",
       "      <td>12</td>\n",
       "      <td>2020-04-12</td>\n",
       "      <td>United States</td>\n",
       "      <td>Dick Johnson Is Dead(trailer)</td>\n",
       "    </tr>\n",
       "    <tr>\n",
       "      <th>1</th>\n",
       "      <td>0</td>\n",
       "      <td>TV Show</td>\n",
       "      <td>Blood &amp; Water</td>\n",
       "      <td>After crossing paths at a party, a Cape Town t...</td>\n",
       "      <td>12</td>\n",
       "      <td>2021-11-20</td>\n",
       "      <td>South Africa</td>\n",
       "      <td>Blood &amp; Water(trailer)</td>\n",
       "    </tr>\n",
       "    <tr>\n",
       "      <th>2</th>\n",
       "      <td>7</td>\n",
       "      <td>TV Show</td>\n",
       "      <td>Ganglands</td>\n",
       "      <td>To protect his family from a powerful drug lor...</td>\n",
       "      <td>6</td>\n",
       "      <td>2021-12-05</td>\n",
       "      <td>United States</td>\n",
       "      <td>Ganglands(trailer)</td>\n",
       "    </tr>\n",
       "    <tr>\n",
       "      <th>3</th>\n",
       "      <td>8</td>\n",
       "      <td>TV Show</td>\n",
       "      <td>Jailbirds New Orleans</td>\n",
       "      <td>Feuds, flirtations and toilet talk go down amo...</td>\n",
       "      <td>12</td>\n",
       "      <td>2021-05-09</td>\n",
       "      <td>United States</td>\n",
       "      <td>Jailbirds New Orleans(trailer)</td>\n",
       "    </tr>\n",
       "    <tr>\n",
       "      <th>4</th>\n",
       "      <td>7</td>\n",
       "      <td>TV Show</td>\n",
       "      <td>Kota Factory</td>\n",
       "      <td>In a city of coaching centers known to train I...</td>\n",
       "      <td>18</td>\n",
       "      <td>2021-12-21</td>\n",
       "      <td>India</td>\n",
       "      <td>Kota Factory(trailer)</td>\n",
       "    </tr>\n",
       "    <tr>\n",
       "      <th>...</th>\n",
       "      <td>...</td>\n",
       "      <td>...</td>\n",
       "      <td>...</td>\n",
       "      <td>...</td>\n",
       "      <td>...</td>\n",
       "      <td>...</td>\n",
       "      <td>...</td>\n",
       "      <td>...</td>\n",
       "    </tr>\n",
       "    <tr>\n",
       "      <th>1995</th>\n",
       "      <td>3</td>\n",
       "      <td>Movie</td>\n",
       "      <td>The Devil All The Time</td>\n",
       "      <td>Sinister characters converge around a young ma...</td>\n",
       "      <td>12</td>\n",
       "      <td>2020-09-27</td>\n",
       "      <td>United States</td>\n",
       "      <td>The Devil All The Time(trailer)</td>\n",
       "    </tr>\n",
       "    <tr>\n",
       "      <th>1996</th>\n",
       "      <td>5</td>\n",
       "      <td>Movie</td>\n",
       "      <td>The Paramedic</td>\n",
       "      <td>Unable to face his new reality in a wheelchair...</td>\n",
       "      <td>12</td>\n",
       "      <td>2020-11-03</td>\n",
       "      <td>Spain</td>\n",
       "      <td>The Paramedic(trailer)</td>\n",
       "    </tr>\n",
       "    <tr>\n",
       "      <th>1997</th>\n",
       "      <td>3</td>\n",
       "      <td>Movie</td>\n",
       "      <td>The Take</td>\n",
       "      <td>After a mix-up lands him in hot water, a skill...</td>\n",
       "      <td>6</td>\n",
       "      <td>2016-04-21</td>\n",
       "      <td>United Kingdom, France, United States, Belgium...</td>\n",
       "      <td>The Take(trailer)</td>\n",
       "    </tr>\n",
       "    <tr>\n",
       "      <th>1998</th>\n",
       "      <td>1</td>\n",
       "      <td>TV Show</td>\n",
       "      <td>Call the Midwife</td>\n",
       "      <td>This period drama set in impoverished East Lon...</td>\n",
       "      <td>16</td>\n",
       "      <td>2020-03-19</td>\n",
       "      <td>United Kingdom</td>\n",
       "      <td>Call the Midwife(trailer)</td>\n",
       "    </tr>\n",
       "    <tr>\n",
       "      <th>1999</th>\n",
       "      <td>9</td>\n",
       "      <td>Movie</td>\n",
       "      <td>Hope Frozen: A Quest to Live Twice</td>\n",
       "      <td>A Thai scientist and his family decide to cryo...</td>\n",
       "      <td>16</td>\n",
       "      <td>2020-12-06</td>\n",
       "      <td>Thailand, United States</td>\n",
       "      <td>Hope Frozen: A Quest to Live Twice(trailer)</td>\n",
       "    </tr>\n",
       "  </tbody>\n",
       "</table>\n",
       "<p>2000 rows × 8 columns</p>\n",
       "</div>"
      ],
      "text/plain": [
       "      rate Категория                            Название  \\\n",
       "0        4     Movie                Dick Johnson Is Dead   \n",
       "1        0   TV Show                       Blood & Water   \n",
       "2        7   TV Show                           Ganglands   \n",
       "3        8   TV Show               Jailbirds New Orleans   \n",
       "4        7   TV Show                        Kota Factory   \n",
       "...    ...       ...                                 ...   \n",
       "1995     3     Movie              The Devil All The Time   \n",
       "1996     5     Movie                       The Paramedic   \n",
       "1997     3     Movie                            The Take   \n",
       "1998     1   TV Show                    Call the Midwife   \n",
       "1999     9     Movie  Hope Frozen: A Quest to Live Twice   \n",
       "\n",
       "                                               Описание  limit        дата  \\\n",
       "0     As her father nears the end of his life, filmm...     12  2020-04-12   \n",
       "1     After crossing paths at a party, a Cape Town t...     12  2021-11-20   \n",
       "2     To protect his family from a powerful drug lor...      6  2021-12-05   \n",
       "3     Feuds, flirtations and toilet talk go down amo...     12  2021-05-09   \n",
       "4     In a city of coaching centers known to train I...     18  2021-12-21   \n",
       "...                                                 ...    ...         ...   \n",
       "1995  Sinister characters converge around a young ma...     12  2020-09-27   \n",
       "1996  Unable to face his new reality in a wheelchair...     12  2020-11-03   \n",
       "1997  After a mix-up lands him in hot water, a skill...      6  2016-04-21   \n",
       "1998  This period drama set in impoverished East Lon...     16  2020-03-19   \n",
       "1999  A Thai scientist and his family decide to cryo...     16  2020-12-06   \n",
       "\n",
       "                                                country  \\\n",
       "0                                         United States   \n",
       "1                                          South Africa   \n",
       "2                                         United States   \n",
       "3                                         United States   \n",
       "4                                                 India   \n",
       "...                                                 ...   \n",
       "1995                                      United States   \n",
       "1996                                              Spain   \n",
       "1997  United Kingdom, France, United States, Belgium...   \n",
       "1998                                     United Kingdom   \n",
       "1999                            Thailand, United States   \n",
       "\n",
       "                                          trailer  \n",
       "0                   Dick Johnson Is Dead(trailer)  \n",
       "1                          Blood & Water(trailer)  \n",
       "2                              Ganglands(trailer)  \n",
       "3                  Jailbirds New Orleans(trailer)  \n",
       "4                           Kota Factory(trailer)  \n",
       "...                                           ...  \n",
       "1995              The Devil All The Time(trailer)  \n",
       "1996                       The Paramedic(trailer)  \n",
       "1997                            The Take(trailer)  \n",
       "1998                    Call the Midwife(trailer)  \n",
       "1999  Hope Frozen: A Quest to Live Twice(trailer)  \n",
       "\n",
       "[2000 rows x 8 columns]"
      ]
     },
     "execution_count": 51,
     "metadata": {},
     "output_type": "execute_result"
    }
   ],
   "source": [
    "film"
   ]
  },
  {
   "cell_type": "code",
   "execution_count": 31,
   "metadata": {},
   "outputs": [],
   "source": [
    "credit = pd.read_csv('./DBS_Nekita/credits.csv')"
   ]
  },
  {
   "cell_type": "code",
   "execution_count": 34,
   "metadata": {},
   "outputs": [
    {
     "data": {
      "text/html": [
       "<div>\n",
       "<style scoped>\n",
       "    .dataframe tbody tr th:only-of-type {\n",
       "        vertical-align: middle;\n",
       "    }\n",
       "\n",
       "    .dataframe tbody tr th {\n",
       "        vertical-align: top;\n",
       "    }\n",
       "\n",
       "    .dataframe thead th {\n",
       "        text-align: right;\n",
       "    }\n",
       "</style>\n",
       "<table border=\"1\" class=\"dataframe\">\n",
       "  <thead>\n",
       "    <tr style=\"text-align: right;\">\n",
       "      <th></th>\n",
       "      <th>person_id</th>\n",
       "      <th>id</th>\n",
       "      <th>name</th>\n",
       "      <th>character</th>\n",
       "      <th>role</th>\n",
       "    </tr>\n",
       "  </thead>\n",
       "  <tbody>\n",
       "    <tr>\n",
       "      <th>0</th>\n",
       "      <td>3748</td>\n",
       "      <td>tm84618</td>\n",
       "      <td>Robert De Niro</td>\n",
       "      <td>Travis Bickle</td>\n",
       "      <td>ACTOR</td>\n",
       "    </tr>\n",
       "    <tr>\n",
       "      <th>1</th>\n",
       "      <td>14658</td>\n",
       "      <td>tm84618</td>\n",
       "      <td>Jodie Foster</td>\n",
       "      <td>Iris Steensma</td>\n",
       "      <td>ACTOR</td>\n",
       "    </tr>\n",
       "    <tr>\n",
       "      <th>2</th>\n",
       "      <td>7064</td>\n",
       "      <td>tm84618</td>\n",
       "      <td>Albert Brooks</td>\n",
       "      <td>Tom</td>\n",
       "      <td>ACTOR</td>\n",
       "    </tr>\n",
       "    <tr>\n",
       "      <th>3</th>\n",
       "      <td>3739</td>\n",
       "      <td>tm84618</td>\n",
       "      <td>Harvey Keitel</td>\n",
       "      <td>Matthew 'Sport' Higgins</td>\n",
       "      <td>ACTOR</td>\n",
       "    </tr>\n",
       "    <tr>\n",
       "      <th>4</th>\n",
       "      <td>48933</td>\n",
       "      <td>tm84618</td>\n",
       "      <td>Cybill Shepherd</td>\n",
       "      <td>Betsy</td>\n",
       "      <td>ACTOR</td>\n",
       "    </tr>\n",
       "    <tr>\n",
       "      <th>...</th>\n",
       "      <td>...</td>\n",
       "      <td>...</td>\n",
       "      <td>...</td>\n",
       "      <td>...</td>\n",
       "      <td>...</td>\n",
       "    </tr>\n",
       "    <tr>\n",
       "      <th>77795</th>\n",
       "      <td>368473</td>\n",
       "      <td>tm1059008</td>\n",
       "      <td>Aída Morales</td>\n",
       "      <td>Maritza</td>\n",
       "      <td>ACTOR</td>\n",
       "    </tr>\n",
       "    <tr>\n",
       "      <th>77796</th>\n",
       "      <td>736339</td>\n",
       "      <td>tm1059008</td>\n",
       "      <td>Adelaida Buscato</td>\n",
       "      <td>María Paz</td>\n",
       "      <td>ACTOR</td>\n",
       "    </tr>\n",
       "    <tr>\n",
       "      <th>77797</th>\n",
       "      <td>399499</td>\n",
       "      <td>tm1059008</td>\n",
       "      <td>Luz Stella Luengas</td>\n",
       "      <td>Karen Bayona</td>\n",
       "      <td>ACTOR</td>\n",
       "    </tr>\n",
       "    <tr>\n",
       "      <th>77798</th>\n",
       "      <td>373198</td>\n",
       "      <td>tm1059008</td>\n",
       "      <td>Inés Prieto</td>\n",
       "      <td>Fanny</td>\n",
       "      <td>ACTOR</td>\n",
       "    </tr>\n",
       "    <tr>\n",
       "      <th>77799</th>\n",
       "      <td>378132</td>\n",
       "      <td>tm1059008</td>\n",
       "      <td>Isabel Gaona</td>\n",
       "      <td>Cacica</td>\n",
       "      <td>ACTOR</td>\n",
       "    </tr>\n",
       "  </tbody>\n",
       "</table>\n",
       "<p>73251 rows × 5 columns</p>\n",
       "</div>"
      ],
      "text/plain": [
       "       person_id         id                name                character  \\\n",
       "0           3748    tm84618      Robert De Niro            Travis Bickle   \n",
       "1          14658    tm84618        Jodie Foster            Iris Steensma   \n",
       "2           7064    tm84618       Albert Brooks                      Tom   \n",
       "3           3739    tm84618       Harvey Keitel  Matthew 'Sport' Higgins   \n",
       "4          48933    tm84618     Cybill Shepherd                    Betsy   \n",
       "...          ...        ...                 ...                      ...   \n",
       "77795     368473  tm1059008        Aída Morales                  Maritza   \n",
       "77796     736339  tm1059008    Adelaida Buscato                María Paz   \n",
       "77797     399499  tm1059008  Luz Stella Luengas             Karen Bayona   \n",
       "77798     373198  tm1059008         Inés Prieto                    Fanny   \n",
       "77799     378132  tm1059008        Isabel Gaona                   Cacica   \n",
       "\n",
       "        role  \n",
       "0      ACTOR  \n",
       "1      ACTOR  \n",
       "2      ACTOR  \n",
       "3      ACTOR  \n",
       "4      ACTOR  \n",
       "...      ...  \n",
       "77795  ACTOR  \n",
       "77796  ACTOR  \n",
       "77797  ACTOR  \n",
       "77798  ACTOR  \n",
       "77799  ACTOR  \n",
       "\n",
       "[73251 rows x 5 columns]"
      ]
     },
     "execution_count": 34,
     "metadata": {},
     "output_type": "execute_result"
    }
   ],
   "source": [
    "credit[credit['role'] == 'ACTOR']"
   ]
  },
  {
   "cell_type": "code",
   "execution_count": 35,
   "metadata": {},
   "outputs": [],
   "source": [
    "actor = pd.DataFrame()\n",
    "actor_per = pd.DataFrame()"
   ]
  },
  {
   "cell_type": "code",
   "execution_count": 36,
   "metadata": {},
   "outputs": [
    {
     "name": "stderr",
     "output_type": "stream",
     "text": [
      "/var/folders/4c/gl255b9x76z020j9qvyqkbc00000gn/T/ipykernel_16632/2196108768.py:1: FutureWarning: The behavior of `series[i:j]` with an integer-dtype index is deprecated. In a future version, this will be treated as *label-based* indexing, consistent with e.g. `series[i]` lookups. To retain the old behavior, use `series.iloc[i:j]`. To get the future behavior, use `series.loc[i:j]`.\n",
      "  actor['name'] = credit[credit['role'] == 'ACTOR']['name'][:2000].values\n"
     ]
    }
   ],
   "source": [
    "actor['name'] = credit[credit['role'] == 'ACTOR']['name'][:2000].values"
   ]
  },
  {
   "cell_type": "code",
   "execution_count": 38,
   "metadata": {},
   "outputs": [],
   "source": [
    "actor_per['mov_id'] = np.random.randint(0,2000,5000)\n",
    "actor_per['act_id'] = np.random.randint(0,2000,5000)"
   ]
  },
  {
   "cell_type": "code",
   "execution_count": 52,
   "metadata": {},
   "outputs": [],
   "source": [
    "film.drop(['Категория'],axis = 1,inplace = True)\n",
    "film.to_csv('./DBS_Nekita/film.csv')"
   ]
  },
  {
   "cell_type": "code",
   "execution_count": 54,
   "metadata": {},
   "outputs": [],
   "source": [
    "actor.to_csv('./DBS_Nekita/actor.csv')"
   ]
  },
  {
   "cell_type": "code",
   "execution_count": 56,
   "metadata": {},
   "outputs": [],
   "source": [
    "actor_per.to_csv('./DBS_Nekita/acting.csv')"
   ]
  },
  {
   "cell_type": "code",
   "execution_count": 58,
   "metadata": {},
   "outputs": [],
   "source": [
    "awa = ['The Academy Award','Cannes Film Festival','Venice Film Festival','Berlin Film Festival','golden globe award','BAFTA','Cesar award','Sundance','rotterdam Film Festival']"
   ]
  },
  {
   "cell_type": "code",
   "execution_count": 60,
   "metadata": {},
   "outputs": [
    {
     "name": "stderr",
     "output_type": "stream",
     "text": [
      "/var/folders/4c/gl255b9x76z020j9qvyqkbc00000gn/T/ipykernel_16632/4203525993.py:2: FutureWarning: The behavior of `series[i:j]` with an integer-dtype index is deprecated. In a future version, this will be treated as *label-based* indexing, consistent with e.g. `series[i]` lookups. To retain the old behavior, use `series.iloc[i:j]`. To get the future behavior, use `series.loc[i:j]`.\n",
      "  director['name'] = credit[credit['role'] == 'DIRECTOR']['name'][:500].values\n"
     ]
    }
   ],
   "source": [
    "director = pd.DataFrame()\n",
    "director['name'] = credit[credit['role'] == 'DIRECTOR']['name'][:500].values"
   ]
  },
  {
   "cell_type": "code",
   "execution_count": 61,
   "metadata": {},
   "outputs": [
    {
     "data": {
      "text/html": [
       "<div>\n",
       "<style scoped>\n",
       "    .dataframe tbody tr th:only-of-type {\n",
       "        vertical-align: middle;\n",
       "    }\n",
       "\n",
       "    .dataframe tbody tr th {\n",
       "        vertical-align: top;\n",
       "    }\n",
       "\n",
       "    .dataframe thead th {\n",
       "        text-align: right;\n",
       "    }\n",
       "</style>\n",
       "<table border=\"1\" class=\"dataframe\">\n",
       "  <thead>\n",
       "    <tr style=\"text-align: right;\">\n",
       "      <th></th>\n",
       "      <th>name</th>\n",
       "    </tr>\n",
       "  </thead>\n",
       "  <tbody>\n",
       "    <tr>\n",
       "      <th>0</th>\n",
       "      <td>Martin Scorsese</td>\n",
       "    </tr>\n",
       "    <tr>\n",
       "      <th>1</th>\n",
       "      <td>John Boorman</td>\n",
       "    </tr>\n",
       "    <tr>\n",
       "      <th>2</th>\n",
       "      <td>Terry Jones</td>\n",
       "    </tr>\n",
       "    <tr>\n",
       "      <th>3</th>\n",
       "      <td>Terry Gilliam</td>\n",
       "    </tr>\n",
       "    <tr>\n",
       "      <th>4</th>\n",
       "      <td>Robert Aldrich</td>\n",
       "    </tr>\n",
       "    <tr>\n",
       "      <th>...</th>\n",
       "      <td>...</td>\n",
       "    </tr>\n",
       "    <tr>\n",
       "      <th>495</th>\n",
       "      <td>David Dhawan</td>\n",
       "    </tr>\n",
       "    <tr>\n",
       "      <th>496</th>\n",
       "      <td>Ming Zhang Chen</td>\n",
       "    </tr>\n",
       "    <tr>\n",
       "      <th>497</th>\n",
       "      <td>Chun Chieh Liu</td>\n",
       "    </tr>\n",
       "    <tr>\n",
       "      <th>498</th>\n",
       "      <td>Everardo González</td>\n",
       "    </tr>\n",
       "    <tr>\n",
       "      <th>499</th>\n",
       "      <td>Shyam Benegal</td>\n",
       "    </tr>\n",
       "  </tbody>\n",
       "</table>\n",
       "<p>500 rows × 1 columns</p>\n",
       "</div>"
      ],
      "text/plain": [
       "                  name\n",
       "0      Martin Scorsese\n",
       "1         John Boorman\n",
       "2          Terry Jones\n",
       "3        Terry Gilliam\n",
       "4       Robert Aldrich\n",
       "..                 ...\n",
       "495       David Dhawan\n",
       "496    Ming Zhang Chen\n",
       "497     Chun Chieh Liu\n",
       "498  Everardo González\n",
       "499      Shyam Benegal\n",
       "\n",
       "[500 rows x 1 columns]"
      ]
     },
     "execution_count": 61,
     "metadata": {},
     "output_type": "execute_result"
    }
   ],
   "source": [
    "director"
   ]
  },
  {
   "cell_type": "code",
   "execution_count": 63,
   "metadata": {},
   "outputs": [],
   "source": [
    "create1 = pd.DataFrame()\n",
    "create1['prod_id'] = np.random.randint(0,500,3500)\n",
    "create1['mov_id'] = np.random.randint(0,2000,3500)"
   ]
  },
  {
   "cell_type": "code",
   "execution_count": 64,
   "metadata": {},
   "outputs": [
    {
     "data": {
      "text/html": [
       "<div>\n",
       "<style scoped>\n",
       "    .dataframe tbody tr th:only-of-type {\n",
       "        vertical-align: middle;\n",
       "    }\n",
       "\n",
       "    .dataframe tbody tr th {\n",
       "        vertical-align: top;\n",
       "    }\n",
       "\n",
       "    .dataframe thead th {\n",
       "        text-align: right;\n",
       "    }\n",
       "</style>\n",
       "<table border=\"1\" class=\"dataframe\">\n",
       "  <thead>\n",
       "    <tr style=\"text-align: right;\">\n",
       "      <th></th>\n",
       "      <th>prod_id</th>\n",
       "      <th>mov_id</th>\n",
       "    </tr>\n",
       "  </thead>\n",
       "  <tbody>\n",
       "    <tr>\n",
       "      <th>0</th>\n",
       "      <td>19</td>\n",
       "      <td>1496</td>\n",
       "    </tr>\n",
       "    <tr>\n",
       "      <th>1</th>\n",
       "      <td>485</td>\n",
       "      <td>137</td>\n",
       "    </tr>\n",
       "    <tr>\n",
       "      <th>2</th>\n",
       "      <td>117</td>\n",
       "      <td>677</td>\n",
       "    </tr>\n",
       "    <tr>\n",
       "      <th>3</th>\n",
       "      <td>297</td>\n",
       "      <td>1172</td>\n",
       "    </tr>\n",
       "    <tr>\n",
       "      <th>4</th>\n",
       "      <td>188</td>\n",
       "      <td>1046</td>\n",
       "    </tr>\n",
       "    <tr>\n",
       "      <th>...</th>\n",
       "      <td>...</td>\n",
       "      <td>...</td>\n",
       "    </tr>\n",
       "    <tr>\n",
       "      <th>3495</th>\n",
       "      <td>45</td>\n",
       "      <td>1597</td>\n",
       "    </tr>\n",
       "    <tr>\n",
       "      <th>3496</th>\n",
       "      <td>319</td>\n",
       "      <td>393</td>\n",
       "    </tr>\n",
       "    <tr>\n",
       "      <th>3497</th>\n",
       "      <td>418</td>\n",
       "      <td>907</td>\n",
       "    </tr>\n",
       "    <tr>\n",
       "      <th>3498</th>\n",
       "      <td>84</td>\n",
       "      <td>990</td>\n",
       "    </tr>\n",
       "    <tr>\n",
       "      <th>3499</th>\n",
       "      <td>204</td>\n",
       "      <td>71</td>\n",
       "    </tr>\n",
       "  </tbody>\n",
       "</table>\n",
       "<p>3500 rows × 2 columns</p>\n",
       "</div>"
      ],
      "text/plain": [
       "      prod_id  mov_id\n",
       "0          19    1496\n",
       "1         485     137\n",
       "2         117     677\n",
       "3         297    1172\n",
       "4         188    1046\n",
       "...       ...     ...\n",
       "3495       45    1597\n",
       "3496      319     393\n",
       "3497      418     907\n",
       "3498       84     990\n",
       "3499      204      71\n",
       "\n",
       "[3500 rows x 2 columns]"
      ]
     },
     "execution_count": 64,
     "metadata": {},
     "output_type": "execute_result"
    }
   ],
   "source": [
    "create1"
   ]
  },
  {
   "cell_type": "code",
   "execution_count": 65,
   "metadata": {},
   "outputs": [],
   "source": [
    "director_awards = pd.DataFrame()"
   ]
  },
  {
   "cell_type": "code",
   "execution_count": 66,
   "metadata": {},
   "outputs": [],
   "source": [
    "director_awards['name'] = awa"
   ]
  },
  {
   "cell_type": "code",
   "execution_count": 67,
   "metadata": {},
   "outputs": [
    {
     "data": {
      "text/html": [
       "<div>\n",
       "<style scoped>\n",
       "    .dataframe tbody tr th:only-of-type {\n",
       "        vertical-align: middle;\n",
       "    }\n",
       "\n",
       "    .dataframe tbody tr th {\n",
       "        vertical-align: top;\n",
       "    }\n",
       "\n",
       "    .dataframe thead th {\n",
       "        text-align: right;\n",
       "    }\n",
       "</style>\n",
       "<table border=\"1\" class=\"dataframe\">\n",
       "  <thead>\n",
       "    <tr style=\"text-align: right;\">\n",
       "      <th></th>\n",
       "      <th>name</th>\n",
       "    </tr>\n",
       "  </thead>\n",
       "  <tbody>\n",
       "    <tr>\n",
       "      <th>0</th>\n",
       "      <td>The Academy Award</td>\n",
       "    </tr>\n",
       "    <tr>\n",
       "      <th>1</th>\n",
       "      <td>Cannes Film Festival</td>\n",
       "    </tr>\n",
       "    <tr>\n",
       "      <th>2</th>\n",
       "      <td>Venice Film Festival</td>\n",
       "    </tr>\n",
       "    <tr>\n",
       "      <th>3</th>\n",
       "      <td>Berlin Film Festival</td>\n",
       "    </tr>\n",
       "    <tr>\n",
       "      <th>4</th>\n",
       "      <td>golden globe award</td>\n",
       "    </tr>\n",
       "    <tr>\n",
       "      <th>5</th>\n",
       "      <td>BAFTA</td>\n",
       "    </tr>\n",
       "    <tr>\n",
       "      <th>6</th>\n",
       "      <td>Cesar award</td>\n",
       "    </tr>\n",
       "    <tr>\n",
       "      <th>7</th>\n",
       "      <td>Sundance</td>\n",
       "    </tr>\n",
       "    <tr>\n",
       "      <th>8</th>\n",
       "      <td>rotterdam Film Festival</td>\n",
       "    </tr>\n",
       "  </tbody>\n",
       "</table>\n",
       "</div>"
      ],
      "text/plain": [
       "                      name\n",
       "0        The Academy Award\n",
       "1     Cannes Film Festival\n",
       "2     Venice Film Festival\n",
       "3     Berlin Film Festival\n",
       "4       golden globe award\n",
       "5                    BAFTA\n",
       "6              Cesar award\n",
       "7                 Sundance\n",
       "8  rotterdam Film Festival"
      ]
     },
     "execution_count": 67,
     "metadata": {},
     "output_type": "execute_result"
    }
   ],
   "source": [
    "director_awards"
   ]
  },
  {
   "cell_type": "code",
   "execution_count": 70,
   "metadata": {},
   "outputs": [
    {
     "data": {
      "text/plain": [
       "'1996-11-03'"
      ]
     },
     "execution_count": 70,
     "metadata": {},
     "output_type": "execute_result"
    }
   ],
   "source": [
    "conv_time(random_data(1970,2022))"
   ]
  },
  {
   "cell_type": "code",
   "execution_count": 71,
   "metadata": {},
   "outputs": [],
   "source": [
    "having = pd.DataFrame()\n",
    "having['Data'] =  [conv_time(random_data(1970,2022)) for i in range(1000)]\n",
    "having['prod_id'] = np.random.randint(0,500,1000)\n",
    "having['awa_id'] = np.random.randint(0,9,1000)"
   ]
  },
  {
   "cell_type": "code",
   "execution_count": 76,
   "metadata": {},
   "outputs": [],
   "source": [
    "director.to_csv('./DBS_Nekita/director.csv')\n",
    "having.to_csv('./DBS_Nekita/having.csv')\n",
    "director_awards.to_csv('./DBS_Nekita/d_awards.csv')\n",
    "create1.to_csv('./DBS_Nekita/create1.csv')      "
   ]
  },
  {
   "cell_type": "code",
   "execution_count": 75,
   "metadata": {},
   "outputs": [
    {
     "data": {
      "text/html": [
       "<div>\n",
       "<style scoped>\n",
       "    .dataframe tbody tr th:only-of-type {\n",
       "        vertical-align: middle;\n",
       "    }\n",
       "\n",
       "    .dataframe tbody tr th {\n",
       "        vertical-align: top;\n",
       "    }\n",
       "\n",
       "    .dataframe thead th {\n",
       "        text-align: right;\n",
       "    }\n",
       "</style>\n",
       "<table border=\"1\" class=\"dataframe\">\n",
       "  <thead>\n",
       "    <tr style=\"text-align: right;\">\n",
       "      <th></th>\n",
       "      <th>prod_id</th>\n",
       "      <th>mov_id</th>\n",
       "    </tr>\n",
       "  </thead>\n",
       "  <tbody>\n",
       "    <tr>\n",
       "      <th>0</th>\n",
       "      <td>19</td>\n",
       "      <td>1496</td>\n",
       "    </tr>\n",
       "    <tr>\n",
       "      <th>1</th>\n",
       "      <td>485</td>\n",
       "      <td>137</td>\n",
       "    </tr>\n",
       "    <tr>\n",
       "      <th>2</th>\n",
       "      <td>117</td>\n",
       "      <td>677</td>\n",
       "    </tr>\n",
       "    <tr>\n",
       "      <th>3</th>\n",
       "      <td>297</td>\n",
       "      <td>1172</td>\n",
       "    </tr>\n",
       "    <tr>\n",
       "      <th>4</th>\n",
       "      <td>188</td>\n",
       "      <td>1046</td>\n",
       "    </tr>\n",
       "    <tr>\n",
       "      <th>...</th>\n",
       "      <td>...</td>\n",
       "      <td>...</td>\n",
       "    </tr>\n",
       "    <tr>\n",
       "      <th>3495</th>\n",
       "      <td>45</td>\n",
       "      <td>1597</td>\n",
       "    </tr>\n",
       "    <tr>\n",
       "      <th>3496</th>\n",
       "      <td>319</td>\n",
       "      <td>393</td>\n",
       "    </tr>\n",
       "    <tr>\n",
       "      <th>3497</th>\n",
       "      <td>418</td>\n",
       "      <td>907</td>\n",
       "    </tr>\n",
       "    <tr>\n",
       "      <th>3498</th>\n",
       "      <td>84</td>\n",
       "      <td>990</td>\n",
       "    </tr>\n",
       "    <tr>\n",
       "      <th>3499</th>\n",
       "      <td>204</td>\n",
       "      <td>71</td>\n",
       "    </tr>\n",
       "  </tbody>\n",
       "</table>\n",
       "<p>3500 rows × 2 columns</p>\n",
       "</div>"
      ],
      "text/plain": [
       "      prod_id  mov_id\n",
       "0          19    1496\n",
       "1         485     137\n",
       "2         117     677\n",
       "3         297    1172\n",
       "4         188    1046\n",
       "...       ...     ...\n",
       "3495       45    1597\n",
       "3496      319     393\n",
       "3497      418     907\n",
       "3498       84     990\n",
       "3499      204      71\n",
       "\n",
       "[3500 rows x 2 columns]"
      ]
     },
     "execution_count": 75,
     "metadata": {},
     "output_type": "execute_result"
    }
   ],
   "source": [
    "create1"
   ]
  },
  {
   "cell_type": "code",
   "execution_count": 90,
   "metadata": {},
   "outputs": [],
   "source": [
    "qw = dict({'Movie':0,\"TV Show\":1})\n",
    "first['type'][:2000].apply(lambda x:qw[x])\n",
    "\n",
    "category = pd.DataFrame()\n",
    "category['c_name'] = ['Movie','TV Show']\n",
    "category['c_id'] = [0,1]\n",
    "category.to_csv('./DBS_Nekita/categ.csv',index = False)\n",
    "\n",
    "related2 = pd.DataFrame()\n",
    "related2['c_id'] = first['type'][:2000].apply(lambda x:qw[x])\n",
    "related2['mov_id'] = list(range(2000))\n"
   ]
  },
  {
   "cell_type": "code",
   "execution_count": 92,
   "metadata": {},
   "outputs": [],
   "source": [
    "related2.to_csv('./DBS_Nekita/related2.csv')"
   ]
  },
  {
   "cell_type": "code",
   "execution_count": 94,
   "metadata": {},
   "outputs": [],
   "source": [
    "comp = ['Warner Bros', 'Paramount','Sony Pictures','Universal','Fox','Disney','HBO','Lionsgate Films','The Weinstein Company','Metro-Goldwyn-Mayer Studios','DreamWorks']"
   ]
  },
  {
   "cell_type": "code",
   "execution_count": 95,
   "metadata": {},
   "outputs": [],
   "source": [
    "componies = pd.DataFrame()\n",
    "componies['name'] = comp"
   ]
  },
  {
   "cell_type": "code",
   "execution_count": 98,
   "metadata": {},
   "outputs": [],
   "source": [
    "componies['id_comp'] = list(range(11))"
   ]
  },
  {
   "cell_type": "code",
   "execution_count": 101,
   "metadata": {},
   "outputs": [],
   "source": [
    "create2 = pd.DataFrame()\n",
    "create2['pc_id'] = np.random.randint(0,11,2000)\n",
    "create2['mov_id'] = list(range(2000))"
   ]
  },
  {
   "cell_type": "code",
   "execution_count": 102,
   "metadata": {},
   "outputs": [],
   "source": [
    "componies.to_csv('./DBS_Nekita/componies.csv',index = False)\n",
    "create2.to_csv('./DBS_Nekita/create2.csv')"
   ]
  },
  {
   "cell_type": "code",
   "execution_count": 105,
   "metadata": {},
   "outputs": [],
   "source": [
    "big = ''\n",
    "for i in range(200):\n",
    "    big = big + first['listed_in'].values[i]"
   ]
  },
  {
   "cell_type": "code",
   "execution_count": 110,
   "metadata": {},
   "outputs": [],
   "source": [
    "genre = pd.DataFrame()\n",
    "genre['name'] = (big.split(','))"
   ]
  },
  {
   "cell_type": "code",
   "execution_count": 112,
   "metadata": {},
   "outputs": [],
   "source": [
    "genre['id_genre'] = list(range(238))"
   ]
  },
  {
   "cell_type": "code",
   "execution_count": 114,
   "metadata": {},
   "outputs": [],
   "source": [
    "related1 = pd.DataFrame()\n",
    "related1['g_id'] = np.random.randint(0,238,4000)\n",
    "related1['mov_id'] = np.random.randint(0,2000,4000)"
   ]
  },
  {
   "cell_type": "code",
   "execution_count": 116,
   "metadata": {},
   "outputs": [],
   "source": [
    "related1.to_csv('./DBS_Nekita/related1.csv')\n",
    "genre.to_csv('./DBS_Nekita/genre.csv',index = False)"
   ]
  },
  {
   "cell_type": "code",
   "execution_count": 118,
   "metadata": {},
   "outputs": [
    {
     "data": {
      "text/plain": [
       "'Shayne Hancock'"
      ]
     },
     "execution_count": 118,
     "metadata": {},
     "output_type": "execute_result"
    }
   ],
   "source": [
    "from mimesis import Person,Address\n",
    "person = Person('en')\n",
    "adr = Address('en')\n",
    "person.full_name() #+ ' '+ person.last_name(gender = 'male')"
   ]
  },
  {
   "cell_type": "code",
   "execution_count": 191,
   "metadata": {},
   "outputs": [
    {
     "data": {
      "text/html": [
       "<div>\n",
       "<style scoped>\n",
       "    .dataframe tbody tr th:only-of-type {\n",
       "        vertical-align: middle;\n",
       "    }\n",
       "\n",
       "    .dataframe tbody tr th {\n",
       "        vertical-align: top;\n",
       "    }\n",
       "\n",
       "    .dataframe thead th {\n",
       "        text-align: right;\n",
       "    }\n",
       "</style>\n",
       "<table border=\"1\" class=\"dataframe\">\n",
       "  <thead>\n",
       "    <tr style=\"text-align: right;\">\n",
       "      <th></th>\n",
       "    </tr>\n",
       "  </thead>\n",
       "  <tbody>\n",
       "  </tbody>\n",
       "</table>\n",
       "</div>"
      ],
      "text/plain": [
       "Empty DataFrame\n",
       "Columns: []\n",
       "Index: []"
      ]
     },
     "execution_count": 191,
     "metadata": {},
     "output_type": "execute_result"
    }
   ],
   "source": [
    "user = pd.DataFrame()\n",
    "user"
   ]
  },
  {
   "cell_type": "code",
   "execution_count": 192,
   "metadata": {},
   "outputs": [],
   "source": [
    "pas = []\n",
    "logs = []\n",
    "coun = []\n",
    "for i in range(2000):\n",
    "    a = person.email()\n",
    "    pas.append(a[:a.find('@')])\n",
    "    \n",
    "    a = person.email()\n",
    "    logs.append(a[:a.find('@')])\n",
    "    \n",
    "    coun.append(first['country'].fillna('United States').values[i])\n",
    "    \n",
    "    "
   ]
  },
  {
   "cell_type": "code",
   "execution_count": 193,
   "metadata": {},
   "outputs": [],
   "source": [
    "user['pas'] = pas\n",
    "user['logs'] = np.random.randint(3000,10000,2000)\n",
    "user['coun'] = coun\n",
    "user['cur_id'] = np.random.randint(0,10,2000)"
   ]
  },
  {
   "cell_type": "code",
   "execution_count": 194,
   "metadata": {},
   "outputs": [],
   "source": [
    "user.to_csv('./DBS_Nekita/user2.csv')"
   ]
  },
  {
   "cell_type": "code",
   "execution_count": 138,
   "metadata": {},
   "outputs": [],
   "source": [
    "currency = pd.DataFrame()\n",
    "currency['name'] =  ['USDT','BYN','RUB','EUR','INR','KZT','CHF','CZK','NOK','ZAR']"
   ]
  },
  {
   "cell_type": "code",
   "execution_count": 182,
   "metadata": {},
   "outputs": [],
   "source": [
    "currency.to_csv('./DBS_Nekita/currency.csv')"
   ]
  },
  {
   "cell_type": "code",
   "execution_count": 143,
   "metadata": {},
   "outputs": [],
   "source": [
    "rate_review = pd.DataFrame()\n",
    "rate_review['rate'] = np.random.randint(0,11,2000)\n",
    "rate_review['rev_id'] = np.random.randint(0,2000,2000)\n",
    "rate_review['user_id'] = np.random.randint(0,2000,2000)\n",
    "rate_review.to_csv('./DBS_Nekita/rate_review.csv')"
   ]
  },
  {
   "cell_type": "code",
   "execution_count": 144,
   "metadata": {},
   "outputs": [],
   "source": [
    "review = pd.DataFrame()\n",
    "review['summary'] = imdb['review'][:2000]\n",
    "review['intr'] = np.random.randint(0,11,2000)\n",
    "review['rev_id'] = list(range(2000))\n",
    "review['date'] = [conv_time(random_data(2010,2023)) for i in range(2000)]\n",
    "review['mov_id'] = np.random.randint(0,2000,2000)\n",
    "review['login'] = np.random.randint(0,2000,2000)\n",
    "review.to_csv('./DBS_Nekita/review_sum.csv',index = False)"
   ]
  },
  {
   "cell_type": "code",
   "execution_count": 141,
   "metadata": {},
   "outputs": [],
   "source": [
    "imdb = pd.read_csv('./DBS_Nekita/IMDB Dataset.csv')"
   ]
  },
  {
   "cell_type": "code",
   "execution_count": 142,
   "metadata": {},
   "outputs": [
    {
     "data": {
      "text/html": [
       "<div>\n",
       "<style scoped>\n",
       "    .dataframe tbody tr th:only-of-type {\n",
       "        vertical-align: middle;\n",
       "    }\n",
       "\n",
       "    .dataframe tbody tr th {\n",
       "        vertical-align: top;\n",
       "    }\n",
       "\n",
       "    .dataframe thead th {\n",
       "        text-align: right;\n",
       "    }\n",
       "</style>\n",
       "<table border=\"1\" class=\"dataframe\">\n",
       "  <thead>\n",
       "    <tr style=\"text-align: right;\">\n",
       "      <th></th>\n",
       "      <th>review</th>\n",
       "      <th>sentiment</th>\n",
       "    </tr>\n",
       "  </thead>\n",
       "  <tbody>\n",
       "    <tr>\n",
       "      <th>0</th>\n",
       "      <td>One of the other reviewers has mentioned that ...</td>\n",
       "      <td>positive</td>\n",
       "    </tr>\n",
       "    <tr>\n",
       "      <th>1</th>\n",
       "      <td>A wonderful little production. &lt;br /&gt;&lt;br /&gt;The...</td>\n",
       "      <td>positive</td>\n",
       "    </tr>\n",
       "    <tr>\n",
       "      <th>2</th>\n",
       "      <td>I thought this was a wonderful way to spend ti...</td>\n",
       "      <td>positive</td>\n",
       "    </tr>\n",
       "    <tr>\n",
       "      <th>3</th>\n",
       "      <td>Basically there's a family where a little boy ...</td>\n",
       "      <td>negative</td>\n",
       "    </tr>\n",
       "    <tr>\n",
       "      <th>4</th>\n",
       "      <td>Petter Mattei's \"Love in the Time of Money\" is...</td>\n",
       "      <td>positive</td>\n",
       "    </tr>\n",
       "    <tr>\n",
       "      <th>...</th>\n",
       "      <td>...</td>\n",
       "      <td>...</td>\n",
       "    </tr>\n",
       "    <tr>\n",
       "      <th>49995</th>\n",
       "      <td>I thought this movie did a down right good job...</td>\n",
       "      <td>positive</td>\n",
       "    </tr>\n",
       "    <tr>\n",
       "      <th>49996</th>\n",
       "      <td>Bad plot, bad dialogue, bad acting, idiotic di...</td>\n",
       "      <td>negative</td>\n",
       "    </tr>\n",
       "    <tr>\n",
       "      <th>49997</th>\n",
       "      <td>I am a Catholic taught in parochial elementary...</td>\n",
       "      <td>negative</td>\n",
       "    </tr>\n",
       "    <tr>\n",
       "      <th>49998</th>\n",
       "      <td>I'm going to have to disagree with the previou...</td>\n",
       "      <td>negative</td>\n",
       "    </tr>\n",
       "    <tr>\n",
       "      <th>49999</th>\n",
       "      <td>No one expects the Star Trek movies to be high...</td>\n",
       "      <td>negative</td>\n",
       "    </tr>\n",
       "  </tbody>\n",
       "</table>\n",
       "<p>50000 rows × 2 columns</p>\n",
       "</div>"
      ],
      "text/plain": [
       "                                                  review sentiment\n",
       "0      One of the other reviewers has mentioned that ...  positive\n",
       "1      A wonderful little production. <br /><br />The...  positive\n",
       "2      I thought this was a wonderful way to spend ti...  positive\n",
       "3      Basically there's a family where a little boy ...  negative\n",
       "4      Petter Mattei's \"Love in the Time of Money\" is...  positive\n",
       "...                                                  ...       ...\n",
       "49995  I thought this movie did a down right good job...  positive\n",
       "49996  Bad plot, bad dialogue, bad acting, idiotic di...  negative\n",
       "49997  I am a Catholic taught in parochial elementary...  negative\n",
       "49998  I'm going to have to disagree with the previou...  negative\n",
       "49999  No one expects the Star Trek movies to be high...  negative\n",
       "\n",
       "[50000 rows x 2 columns]"
      ]
     },
     "execution_count": 142,
     "metadata": {},
     "output_type": "execute_result"
    }
   ],
   "source": [
    "imdb"
   ]
  },
  {
   "cell_type": "code",
   "execution_count": 146,
   "metadata": {},
   "outputs": [],
   "source": [
    "videores = pd.DataFrame() \n",
    "videores['name'] = ['144','240','360','720','1080','4k','8k']\n",
    "videores.to_csv('./DBS_Nekita/Videores.csv')"
   ]
  },
  {
   "cell_type": "code",
   "execution_count": 148,
   "metadata": {},
   "outputs": [],
   "source": [
    "play = pd.DataFrame()\n",
    "play['vidres'] = np.random.randint(0,7,2000)\n",
    "play['mov_id'] = np.random.randint(0,2000,2000)\n",
    "play.to_csv('./DBS_Nekita/play.csv')"
   ]
  },
  {
   "cell_type": "code",
   "execution_count": 149,
   "metadata": {},
   "outputs": [],
   "source": [
    "watch = pd.DataFrame()\n",
    "watch['viewed'] = [np.random.choice(['t','f']) for i in range(2000)]\n",
    "watch['id'] = list(range(2000))\n",
    "watch['uid'] = np.random.randint(0,2000,2000)\n",
    "watch['mid'] = np.random.randint(0,2000,2000)\n",
    "watch.to_csv('./DBS_Nekita/watch.csv',index = False) "
   ]
  },
  {
   "cell_type": "code",
   "execution_count": 152,
   "metadata": {},
   "outputs": [
    {
     "data": {
      "text/plain": [
       "0                                 United States  language\n",
       "1                                  South Africa  language\n",
       "2                                 United States  language\n",
       "3                                 United States  language\n",
       "4                                         India  language\n",
       "                              ...                        \n",
       "1995                              United States  language\n",
       "1996                                      Spain  language\n",
       "1997    United Kingdom, France, United States, Belgium...\n",
       "1998                             United Kingdom  language\n",
       "1999                    Thailand, United States  language\n",
       "Name: country, Length: 2000, dtype: object"
      ]
     },
     "execution_count": 152,
     "metadata": {},
     "output_type": "execute_result"
    }
   ],
   "source": [
    "first['country'].fillna('United States')[:2000] + '  language'"
   ]
  },
  {
   "cell_type": "code",
   "execution_count": 171,
   "metadata": {},
   "outputs": [],
   "source": [
    "language = pd.DataFrame()\n",
    "language['name'] = lang\n",
    "language['id']  = list(range(154))\n",
    "language['name'] = language['name']+'  languge'\n",
    "language[1:].to_csv('./DBS_Nekita/lang.csv',index = False)"
   ]
  },
  {
   "cell_type": "code",
   "execution_count": 175,
   "metadata": {},
   "outputs": [],
   "source": [
    "addd = pd.DataFrame()\n",
    "lis = []\n",
    "for i in range(2000):\n",
    "    \n",
    "    a = person.email()\n",
    "    lis.append(a[:a.find('@')])\n",
    "addd['lis'] = lis\n",
    "addd['mov_id'] = np.random.randint(0,2000,2000)\n",
    "addd['use_id'] = np.random.randint(0,2000,2000)\n",
    "language[1:].to_csv('./DBS_Nekita/add.csv')"
   ]
  },
  {
   "cell_type": "code",
   "execution_count": 176,
   "metadata": {},
   "outputs": [],
   "source": [
    "use = pd.DataFrame()\n",
    "use['useid'] = np.random.randint(0,2000,2000)\n",
    "use['langid'] = np.random.randint(1,154,2000)"
   ]
  },
  {
   "cell_type": "code",
   "execution_count": 177,
   "metadata": {},
   "outputs": [],
   "source": [
    "use.to_csv('./DBS_Nekita/use.csv')"
   ]
  },
  {
   "cell_type": "code",
   "execution_count": 195,
   "metadata": {},
   "outputs": [],
   "source": [
    "sub = pd.DataFrame()\n",
    "sub['sub_last'] = [conv_time(random_data(2019,2022))+ ' 00:00:00+03' for i in range(2000)]\n",
    "sub['sub_name'] = [np.random.choice(['y','h','m']) for i in range(2000)]"
   ]
  },
  {
   "cell_type": "code",
   "execution_count": 196,
   "metadata": {},
   "outputs": [],
   "source": [
    "sub.to_csv('./DBS_Nekita/sub.csv')"
   ]
  },
  {
   "cell_type": "code",
   "execution_count": 197,
   "metadata": {},
   "outputs": [],
   "source": [
    "incude = pd.DataFrame()\n",
    "incude['sub_id'] = np.random.randint(0,2000,2000)\n",
    "incude['mov_id'] = np.random.randint(0,2000,2000)"
   ]
  },
  {
   "cell_type": "code",
   "execution_count": 199,
   "metadata": {},
   "outputs": [],
   "source": [
    "incude.to_csv('./DBS_Nekita/incude.csv')"
   ]
  },
  {
   "cell_type": "code",
   "execution_count": 209,
   "metadata": {},
   "outputs": [],
   "source": [
    "get = pd.DataFrame()\n",
    "get['start'] = [conv_time(random_data(2020,2021)) for i in range(2000)]\n",
    "get['way'] = [np.random.choice(['y','c','m','hy','cd','og']) for i in range(2000)]\n",
    "get['auto'] = [np.random.choice(['t','f']) for i in range(2000)]\n",
    "get['end'] = [conv_time(random_data(2021,2022)) for i in range(2000)]\n",
    "get['sub_id1'] = list(range(2000))\n",
    "get['sub_id2'] = np.random.randint(0,2000,2000)\n",
    "get['sub_id3'] = np.random.randint(0,2000,2000)"
   ]
  },
  {
   "cell_type": "code",
   "execution_count": 210,
   "metadata": {},
   "outputs": [],
   "source": [
    "get.to_csv('./DBS_Nekita/get.csv',index = False)"
   ]
  },
  {
   "cell_type": "code",
   "execution_count": 214,
   "metadata": {},
   "outputs": [],
   "source": [
    "chos = pd.DataFrame()\n",
    "chos['cho'] = [np.random.choice(list(range(10,100,10))) for i in range(2000)]\n",
    "chos['sub_id1'] = np.random.randint(0,7,2000)\n",
    "chos['sub_id2'] = np.random.randint(0,2000,2000)"
   ]
  },
  {
   "cell_type": "code",
   "execution_count": 215,
   "metadata": {},
   "outputs": [],
   "source": [
    "chos.to_csv('./DBS_Nekita/chos.csv')"
   ]
  },
  {
   "cell_type": "code",
   "execution_count": null,
   "metadata": {},
   "outputs": [],
   "source": []
  }
 ],
 "metadata": {
  "kernelspec": {
   "display_name": "Python 3 (ipykernel)",
   "language": "python",
   "name": "python3"
  },
  "language_info": {
   "codemirror_mode": {
    "name": "ipython",
    "version": 3
   },
   "file_extension": ".py",
   "mimetype": "text/x-python",
   "name": "python",
   "nbconvert_exporter": "python",
   "pygments_lexer": "ipython3",
   "version": "3.9.7"
  },
  "varInspector": {
   "cols": {
    "lenName": 16,
    "lenType": 16,
    "lenVar": 40
   },
   "kernels_config": {
    "python": {
     "delete_cmd_postfix": "",
     "delete_cmd_prefix": "del ",
     "library": "var_list.py",
     "varRefreshCmd": "print(var_dic_list())"
    },
    "r": {
     "delete_cmd_postfix": ") ",
     "delete_cmd_prefix": "rm(",
     "library": "var_list.r",
     "varRefreshCmd": "cat(var_dic_list()) "
    }
   },
   "types_to_exclude": [
    "module",
    "function",
    "builtin_function_or_method",
    "instance",
    "_Feature"
   ],
   "window_display": false
  }
 },
 "nbformat": 4,
 "nbformat_minor": 1
}
