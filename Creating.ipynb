{
 "cells": [
  {
   "cell_type": "code",
   "execution_count": 2,
   "metadata": {},
   "outputs": [],
   "source": [
    "import pandas as pd\n",
    "import numpy as np"
   ]
  },
  {
   "cell_type": "code",
   "execution_count": 3,
   "metadata": {},
   "outputs": [],
   "source": [
    "c1 = pd.read_csv('autoscout24-germany-dataset.csv')\n",
    "c2 = pd.read_csv('USA_cars_datasets.csv')"
   ]
  },
  {
   "cell_type": "code",
   "execution_count": 4,
   "metadata": {},
   "outputs": [
    {
     "data": {
      "text/html": [
       "<div>\n",
       "<style scoped>\n",
       "    .dataframe tbody tr th:only-of-type {\n",
       "        vertical-align: middle;\n",
       "    }\n",
       "\n",
       "    .dataframe tbody tr th {\n",
       "        vertical-align: top;\n",
       "    }\n",
       "\n",
       "    .dataframe thead th {\n",
       "        text-align: right;\n",
       "    }\n",
       "</style>\n",
       "<table border=\"1\" class=\"dataframe\">\n",
       "  <thead>\n",
       "    <tr style=\"text-align: right;\">\n",
       "      <th></th>\n",
       "      <th>mileage</th>\n",
       "      <th>make</th>\n",
       "      <th>model</th>\n",
       "      <th>fuel</th>\n",
       "      <th>gear</th>\n",
       "      <th>offerType</th>\n",
       "      <th>price</th>\n",
       "      <th>hp</th>\n",
       "      <th>year</th>\n",
       "    </tr>\n",
       "  </thead>\n",
       "  <tbody>\n",
       "    <tr>\n",
       "      <th>0</th>\n",
       "      <td>235000</td>\n",
       "      <td>BMW</td>\n",
       "      <td>316</td>\n",
       "      <td>Diesel</td>\n",
       "      <td>Manual</td>\n",
       "      <td>Used</td>\n",
       "      <td>6800</td>\n",
       "      <td>116.0</td>\n",
       "      <td>2011</td>\n",
       "    </tr>\n",
       "    <tr>\n",
       "      <th>1</th>\n",
       "      <td>92800</td>\n",
       "      <td>Volkswagen</td>\n",
       "      <td>Golf</td>\n",
       "      <td>Gasoline</td>\n",
       "      <td>Manual</td>\n",
       "      <td>Used</td>\n",
       "      <td>6877</td>\n",
       "      <td>122.0</td>\n",
       "      <td>2011</td>\n",
       "    </tr>\n",
       "    <tr>\n",
       "      <th>2</th>\n",
       "      <td>149300</td>\n",
       "      <td>SEAT</td>\n",
       "      <td>Exeo</td>\n",
       "      <td>Gasoline</td>\n",
       "      <td>Manual</td>\n",
       "      <td>Used</td>\n",
       "      <td>6900</td>\n",
       "      <td>160.0</td>\n",
       "      <td>2011</td>\n",
       "    </tr>\n",
       "    <tr>\n",
       "      <th>3</th>\n",
       "      <td>96200</td>\n",
       "      <td>Renault</td>\n",
       "      <td>Megane</td>\n",
       "      <td>Gasoline</td>\n",
       "      <td>Manual</td>\n",
       "      <td>Used</td>\n",
       "      <td>6950</td>\n",
       "      <td>110.0</td>\n",
       "      <td>2011</td>\n",
       "    </tr>\n",
       "    <tr>\n",
       "      <th>4</th>\n",
       "      <td>156000</td>\n",
       "      <td>Peugeot</td>\n",
       "      <td>308</td>\n",
       "      <td>Gasoline</td>\n",
       "      <td>Manual</td>\n",
       "      <td>Used</td>\n",
       "      <td>6950</td>\n",
       "      <td>156.0</td>\n",
       "      <td>2011</td>\n",
       "    </tr>\n",
       "    <tr>\n",
       "      <th>...</th>\n",
       "      <td>...</td>\n",
       "      <td>...</td>\n",
       "      <td>...</td>\n",
       "      <td>...</td>\n",
       "      <td>...</td>\n",
       "      <td>...</td>\n",
       "      <td>...</td>\n",
       "      <td>...</td>\n",
       "      <td>...</td>\n",
       "    </tr>\n",
       "    <tr>\n",
       "      <th>46400</th>\n",
       "      <td>99</td>\n",
       "      <td>Fiat</td>\n",
       "      <td>500</td>\n",
       "      <td>Electric/Gasoline</td>\n",
       "      <td>Manual</td>\n",
       "      <td>Pre-registered</td>\n",
       "      <td>12990</td>\n",
       "      <td>71.0</td>\n",
       "      <td>2021</td>\n",
       "    </tr>\n",
       "    <tr>\n",
       "      <th>46401</th>\n",
       "      <td>99</td>\n",
       "      <td>Fiat</td>\n",
       "      <td>500</td>\n",
       "      <td>Electric/Gasoline</td>\n",
       "      <td>Manual</td>\n",
       "      <td>Pre-registered</td>\n",
       "      <td>12990</td>\n",
       "      <td>71.0</td>\n",
       "      <td>2021</td>\n",
       "    </tr>\n",
       "    <tr>\n",
       "      <th>46402</th>\n",
       "      <td>99</td>\n",
       "      <td>Fiat</td>\n",
       "      <td>500</td>\n",
       "      <td>Electric/Gasoline</td>\n",
       "      <td>Manual</td>\n",
       "      <td>Pre-registered</td>\n",
       "      <td>12990</td>\n",
       "      <td>71.0</td>\n",
       "      <td>2021</td>\n",
       "    </tr>\n",
       "    <tr>\n",
       "      <th>46403</th>\n",
       "      <td>99</td>\n",
       "      <td>Fiat</td>\n",
       "      <td>500</td>\n",
       "      <td>Electric/Gasoline</td>\n",
       "      <td>Manual</td>\n",
       "      <td>Pre-registered</td>\n",
       "      <td>12990</td>\n",
       "      <td>71.0</td>\n",
       "      <td>2021</td>\n",
       "    </tr>\n",
       "    <tr>\n",
       "      <th>46404</th>\n",
       "      <td>99</td>\n",
       "      <td>Fiat</td>\n",
       "      <td>500</td>\n",
       "      <td>Electric/Gasoline</td>\n",
       "      <td>Manual</td>\n",
       "      <td>Pre-registered</td>\n",
       "      <td>12990</td>\n",
       "      <td>71.0</td>\n",
       "      <td>2021</td>\n",
       "    </tr>\n",
       "  </tbody>\n",
       "</table>\n",
       "<p>46405 rows × 9 columns</p>\n",
       "</div>"
      ],
      "text/plain": [
       "       mileage        make   model               fuel    gear       offerType  \\\n",
       "0       235000         BMW     316             Diesel  Manual            Used   \n",
       "1        92800  Volkswagen    Golf           Gasoline  Manual            Used   \n",
       "2       149300        SEAT    Exeo           Gasoline  Manual            Used   \n",
       "3        96200     Renault  Megane           Gasoline  Manual            Used   \n",
       "4       156000     Peugeot     308           Gasoline  Manual            Used   \n",
       "...        ...         ...     ...                ...     ...             ...   \n",
       "46400       99        Fiat     500  Electric/Gasoline  Manual  Pre-registered   \n",
       "46401       99        Fiat     500  Electric/Gasoline  Manual  Pre-registered   \n",
       "46402       99        Fiat     500  Electric/Gasoline  Manual  Pre-registered   \n",
       "46403       99        Fiat     500  Electric/Gasoline  Manual  Pre-registered   \n",
       "46404       99        Fiat     500  Electric/Gasoline  Manual  Pre-registered   \n",
       "\n",
       "       price     hp  year  \n",
       "0       6800  116.0  2011  \n",
       "1       6877  122.0  2011  \n",
       "2       6900  160.0  2011  \n",
       "3       6950  110.0  2011  \n",
       "4       6950  156.0  2011  \n",
       "...      ...    ...   ...  \n",
       "46400  12990   71.0  2021  \n",
       "46401  12990   71.0  2021  \n",
       "46402  12990   71.0  2021  \n",
       "46403  12990   71.0  2021  \n",
       "46404  12990   71.0  2021  \n",
       "\n",
       "[46405 rows x 9 columns]"
      ]
     },
     "execution_count": 4,
     "metadata": {},
     "output_type": "execute_result"
    }
   ],
   "source": [
    "c1"
   ]
  },
  {
   "cell_type": "code",
   "execution_count": 5,
   "metadata": {},
   "outputs": [
    {
     "data": {
      "text/html": [
       "<div>\n",
       "<style scoped>\n",
       "    .dataframe tbody tr th:only-of-type {\n",
       "        vertical-align: middle;\n",
       "    }\n",
       "\n",
       "    .dataframe tbody tr th {\n",
       "        vertical-align: top;\n",
       "    }\n",
       "\n",
       "    .dataframe thead th {\n",
       "        text-align: right;\n",
       "    }\n",
       "</style>\n",
       "<table border=\"1\" class=\"dataframe\">\n",
       "  <thead>\n",
       "    <tr style=\"text-align: right;\">\n",
       "      <th></th>\n",
       "      <th>Unnamed: 0</th>\n",
       "      <th>price</th>\n",
       "      <th>brand</th>\n",
       "      <th>model</th>\n",
       "      <th>year</th>\n",
       "      <th>title_status</th>\n",
       "      <th>mileage</th>\n",
       "      <th>color</th>\n",
       "      <th>vin</th>\n",
       "      <th>lot</th>\n",
       "      <th>state</th>\n",
       "      <th>country</th>\n",
       "      <th>condition</th>\n",
       "    </tr>\n",
       "  </thead>\n",
       "  <tbody>\n",
       "    <tr>\n",
       "      <th>0</th>\n",
       "      <td>0</td>\n",
       "      <td>6300</td>\n",
       "      <td>toyota</td>\n",
       "      <td>cruiser</td>\n",
       "      <td>2008</td>\n",
       "      <td>clean vehicle</td>\n",
       "      <td>274117.0</td>\n",
       "      <td>black</td>\n",
       "      <td>jtezu11f88k007763</td>\n",
       "      <td>159348797</td>\n",
       "      <td>new jersey</td>\n",
       "      <td>usa</td>\n",
       "      <td>10 days left</td>\n",
       "    </tr>\n",
       "    <tr>\n",
       "      <th>1</th>\n",
       "      <td>1</td>\n",
       "      <td>2899</td>\n",
       "      <td>ford</td>\n",
       "      <td>se</td>\n",
       "      <td>2011</td>\n",
       "      <td>clean vehicle</td>\n",
       "      <td>190552.0</td>\n",
       "      <td>silver</td>\n",
       "      <td>2fmdk3gc4bbb02217</td>\n",
       "      <td>166951262</td>\n",
       "      <td>tennessee</td>\n",
       "      <td>usa</td>\n",
       "      <td>6 days left</td>\n",
       "    </tr>\n",
       "    <tr>\n",
       "      <th>2</th>\n",
       "      <td>2</td>\n",
       "      <td>5350</td>\n",
       "      <td>dodge</td>\n",
       "      <td>mpv</td>\n",
       "      <td>2018</td>\n",
       "      <td>clean vehicle</td>\n",
       "      <td>39590.0</td>\n",
       "      <td>silver</td>\n",
       "      <td>3c4pdcgg5jt346413</td>\n",
       "      <td>167655728</td>\n",
       "      <td>georgia</td>\n",
       "      <td>usa</td>\n",
       "      <td>2 days left</td>\n",
       "    </tr>\n",
       "    <tr>\n",
       "      <th>3</th>\n",
       "      <td>3</td>\n",
       "      <td>25000</td>\n",
       "      <td>ford</td>\n",
       "      <td>door</td>\n",
       "      <td>2014</td>\n",
       "      <td>clean vehicle</td>\n",
       "      <td>64146.0</td>\n",
       "      <td>blue</td>\n",
       "      <td>1ftfw1et4efc23745</td>\n",
       "      <td>167753855</td>\n",
       "      <td>virginia</td>\n",
       "      <td>usa</td>\n",
       "      <td>22 hours left</td>\n",
       "    </tr>\n",
       "    <tr>\n",
       "      <th>4</th>\n",
       "      <td>4</td>\n",
       "      <td>27700</td>\n",
       "      <td>chevrolet</td>\n",
       "      <td>1500</td>\n",
       "      <td>2018</td>\n",
       "      <td>clean vehicle</td>\n",
       "      <td>6654.0</td>\n",
       "      <td>red</td>\n",
       "      <td>3gcpcrec2jg473991</td>\n",
       "      <td>167763266</td>\n",
       "      <td>florida</td>\n",
       "      <td>usa</td>\n",
       "      <td>22 hours left</td>\n",
       "    </tr>\n",
       "    <tr>\n",
       "      <th>...</th>\n",
       "      <td>...</td>\n",
       "      <td>...</td>\n",
       "      <td>...</td>\n",
       "      <td>...</td>\n",
       "      <td>...</td>\n",
       "      <td>...</td>\n",
       "      <td>...</td>\n",
       "      <td>...</td>\n",
       "      <td>...</td>\n",
       "      <td>...</td>\n",
       "      <td>...</td>\n",
       "      <td>...</td>\n",
       "      <td>...</td>\n",
       "    </tr>\n",
       "    <tr>\n",
       "      <th>2494</th>\n",
       "      <td>2494</td>\n",
       "      <td>7800</td>\n",
       "      <td>nissan</td>\n",
       "      <td>versa</td>\n",
       "      <td>2019</td>\n",
       "      <td>clean vehicle</td>\n",
       "      <td>23609.0</td>\n",
       "      <td>red</td>\n",
       "      <td>3n1cn7ap9kl880319</td>\n",
       "      <td>167722715</td>\n",
       "      <td>california</td>\n",
       "      <td>usa</td>\n",
       "      <td>1 days left</td>\n",
       "    </tr>\n",
       "    <tr>\n",
       "      <th>2495</th>\n",
       "      <td>2495</td>\n",
       "      <td>9200</td>\n",
       "      <td>nissan</td>\n",
       "      <td>versa</td>\n",
       "      <td>2018</td>\n",
       "      <td>clean vehicle</td>\n",
       "      <td>34553.0</td>\n",
       "      <td>silver</td>\n",
       "      <td>3n1cn7ap5jl884088</td>\n",
       "      <td>167762225</td>\n",
       "      <td>florida</td>\n",
       "      <td>usa</td>\n",
       "      <td>21 hours left</td>\n",
       "    </tr>\n",
       "    <tr>\n",
       "      <th>2496</th>\n",
       "      <td>2496</td>\n",
       "      <td>9200</td>\n",
       "      <td>nissan</td>\n",
       "      <td>versa</td>\n",
       "      <td>2018</td>\n",
       "      <td>clean vehicle</td>\n",
       "      <td>31594.0</td>\n",
       "      <td>silver</td>\n",
       "      <td>3n1cn7ap9jl884191</td>\n",
       "      <td>167762226</td>\n",
       "      <td>florida</td>\n",
       "      <td>usa</td>\n",
       "      <td>21 hours left</td>\n",
       "    </tr>\n",
       "    <tr>\n",
       "      <th>2497</th>\n",
       "      <td>2497</td>\n",
       "      <td>9200</td>\n",
       "      <td>nissan</td>\n",
       "      <td>versa</td>\n",
       "      <td>2018</td>\n",
       "      <td>clean vehicle</td>\n",
       "      <td>32557.0</td>\n",
       "      <td>black</td>\n",
       "      <td>3n1cn7ap3jl883263</td>\n",
       "      <td>167762227</td>\n",
       "      <td>florida</td>\n",
       "      <td>usa</td>\n",
       "      <td>2 days left</td>\n",
       "    </tr>\n",
       "    <tr>\n",
       "      <th>2498</th>\n",
       "      <td>2498</td>\n",
       "      <td>9200</td>\n",
       "      <td>nissan</td>\n",
       "      <td>versa</td>\n",
       "      <td>2018</td>\n",
       "      <td>clean vehicle</td>\n",
       "      <td>31371.0</td>\n",
       "      <td>silver</td>\n",
       "      <td>3n1cn7ap4jl884311</td>\n",
       "      <td>167762228</td>\n",
       "      <td>florida</td>\n",
       "      <td>usa</td>\n",
       "      <td>21 hours left</td>\n",
       "    </tr>\n",
       "  </tbody>\n",
       "</table>\n",
       "<p>2499 rows × 13 columns</p>\n",
       "</div>"
      ],
      "text/plain": [
       "      Unnamed: 0  price      brand    model  year   title_status   mileage  \\\n",
       "0              0   6300     toyota  cruiser  2008  clean vehicle  274117.0   \n",
       "1              1   2899       ford       se  2011  clean vehicle  190552.0   \n",
       "2              2   5350      dodge      mpv  2018  clean vehicle   39590.0   \n",
       "3              3  25000       ford     door  2014  clean vehicle   64146.0   \n",
       "4              4  27700  chevrolet     1500  2018  clean vehicle    6654.0   \n",
       "...          ...    ...        ...      ...   ...            ...       ...   \n",
       "2494        2494   7800     nissan    versa  2019  clean vehicle   23609.0   \n",
       "2495        2495   9200     nissan    versa  2018  clean vehicle   34553.0   \n",
       "2496        2496   9200     nissan    versa  2018  clean vehicle   31594.0   \n",
       "2497        2497   9200     nissan    versa  2018  clean vehicle   32557.0   \n",
       "2498        2498   9200     nissan    versa  2018  clean vehicle   31371.0   \n",
       "\n",
       "       color                  vin        lot       state country  \\\n",
       "0      black    jtezu11f88k007763  159348797  new jersey     usa   \n",
       "1     silver    2fmdk3gc4bbb02217  166951262   tennessee     usa   \n",
       "2     silver    3c4pdcgg5jt346413  167655728     georgia     usa   \n",
       "3       blue    1ftfw1et4efc23745  167753855    virginia     usa   \n",
       "4        red    3gcpcrec2jg473991  167763266     florida     usa   \n",
       "...      ...                  ...        ...         ...     ...   \n",
       "2494     red    3n1cn7ap9kl880319  167722715  california     usa   \n",
       "2495  silver    3n1cn7ap5jl884088  167762225     florida     usa   \n",
       "2496  silver    3n1cn7ap9jl884191  167762226     florida     usa   \n",
       "2497   black    3n1cn7ap3jl883263  167762227     florida     usa   \n",
       "2498  silver    3n1cn7ap4jl884311  167762228     florida     usa   \n",
       "\n",
       "          condition  \n",
       "0      10 days left  \n",
       "1       6 days left  \n",
       "2       2 days left  \n",
       "3     22 hours left  \n",
       "4     22 hours left  \n",
       "...             ...  \n",
       "2494    1 days left  \n",
       "2495  21 hours left  \n",
       "2496  21 hours left  \n",
       "2497    2 days left  \n",
       "2498  21 hours left  \n",
       "\n",
       "[2499 rows x 13 columns]"
      ]
     },
     "execution_count": 5,
     "metadata": {},
     "output_type": "execute_result"
    }
   ],
   "source": [
    "c2"
   ]
  },
  {
   "cell_type": "code",
   "execution_count": 3,
   "metadata": {},
   "outputs": [
    {
     "data": {
      "text/plain": [
       "array([2, 2, 1, 4, 4, 4, 4, 4, 3, 3, 2, 1, 4, 2, 2, 2, 2, 3, 3, 2, 3, 1,\n",
       "       1, 4, 4, 1, 4, 2, 1, 4, 1, 2, 1, 1, 1, 2, 1, 3, 2, 3, 3, 2, 3, 2,\n",
       "       4, 2, 1, 2, 2, 3])"
      ]
     },
     "execution_count": 3,
     "metadata": {},
     "output_type": "execute_result"
    }
   ],
   "source": [
    "import random #random.sample(range(0, 10), 10)\n",
    "np.random.randint(1,5,50)"
   ]
  },
  {
   "cell_type": "code",
   "execution_count": 4,
   "metadata": {},
   "outputs": [],
   "source": [
    "ui = c1[['make','model']].drop_duplicates().index"
   ]
  },
  {
   "cell_type": "code",
   "execution_count": 5,
   "metadata": {},
   "outputs": [],
   "source": [
    "make_model = c1.iloc[ui,:][['make','model','hp','year']].reset_index()"
   ]
  },
  {
   "cell_type": "code",
   "execution_count": 6,
   "metadata": {},
   "outputs": [],
   "source": [
    "make_model['generation'] = np.random.randint(1,4,884)"
   ]
  },
  {
   "cell_type": "code",
   "execution_count": 7,
   "metadata": {},
   "outputs": [],
   "source": [
    "awards = pd.DataFrame()"
   ]
  },
  {
   "cell_type": "code",
   "execution_count": 8,
   "metadata": {},
   "outputs": [],
   "source": [
    "awards['Пользователь'] = np.random.randint(1,885,2000)"
   ]
  },
  {
   "cell_type": "code",
   "execution_count": 9,
   "metadata": {},
   "outputs": [],
   "source": [
    "awards['Оценка'] = np.random.randint(0,6,2000)"
   ]
  },
  {
   "cell_type": "code",
   "execution_count": 6,
   "metadata": {},
   "outputs": [],
   "source": [
    "all_review = pd.DataFrame()\n",
    "mark = ['ford','kia','nissan','volvo','hyundai']\n",
    "for x in mark:\n",
    "    dd = pd.read_csv(f'Scraped_Car_Review_{x}.csv',engine='python',index_col=False)\n",
    "    all_review = pd.concat([all_review,dd])\n",
    "\n"
   ]
  },
  {
   "cell_type": "code",
   "execution_count": 7,
   "metadata": {},
   "outputs": [
    {
     "data": {
      "text/html": [
       "<div>\n",
       "<style scoped>\n",
       "    .dataframe tbody tr th:only-of-type {\n",
       "        vertical-align: middle;\n",
       "    }\n",
       "\n",
       "    .dataframe tbody tr th {\n",
       "        vertical-align: top;\n",
       "    }\n",
       "\n",
       "    .dataframe thead th {\n",
       "        text-align: right;\n",
       "    }\n",
       "</style>\n",
       "<table border=\"1\" class=\"dataframe\">\n",
       "  <thead>\n",
       "    <tr style=\"text-align: right;\">\n",
       "      <th></th>\n",
       "      <th>Unnamed: 0</th>\n",
       "      <th>Review_Date</th>\n",
       "      <th>Author_Name</th>\n",
       "      <th>Vehicle_Title</th>\n",
       "      <th>Review_Title</th>\n",
       "      <th>Review</th>\n",
       "      <th>Rating</th>\n",
       "    </tr>\n",
       "  </thead>\n",
       "  <tbody>\n",
       "    <tr>\n",
       "      <th>0</th>\n",
       "      <td>0</td>\n",
       "      <td>on 03/28/18 20:22 PM (PDT)</td>\n",
       "      <td>Kiowa1@gmail.com</td>\n",
       "      <td>2006 Hyundai Azera Sedan Limited 4dr Sedan (3....</td>\n",
       "      <td>Excellent Value</td>\n",
       "      <td>I bought the 2006 Azera Limited in June of 20...</td>\n",
       "      <td>4.000</td>\n",
       "    </tr>\n",
       "    <tr>\n",
       "      <th>1</th>\n",
       "      <td>1</td>\n",
       "      <td>on 05/02/17 18:03 PM (PDT)</td>\n",
       "      <td>SiGung</td>\n",
       "      <td>2006 Hyundai Azera Sedan Limited 4dr Sedan (3....</td>\n",
       "      <td>Don't even waste your time looking much less b...</td>\n",
       "      <td>Electrical nightmare.  Dealer cost for repair...</td>\n",
       "      <td>1.000</td>\n",
       "    </tr>\n",
       "    <tr>\n",
       "      <th>2</th>\n",
       "      <td>2</td>\n",
       "      <td>on 05/02/17 18:03 PM (PDT)</td>\n",
       "      <td>SiGung</td>\n",
       "      <td>2006 Hyundai Azera Sedan Limited 4dr Sedan (3....</td>\n",
       "      <td>Great car</td>\n",
       "      <td>Great car, great ride, would have better mile...</td>\n",
       "      <td>5.000</td>\n",
       "    </tr>\n",
       "    <tr>\n",
       "      <th>3</th>\n",
       "      <td>3</td>\n",
       "      <td>on 03/27/17 14:49 PM (PDT)</td>\n",
       "      <td>Kevin Gibson</td>\n",
       "      <td>2006 Hyundai Azera Sedan Limited 4dr Sedan (3....</td>\n",
       "      <td>Best car ever</td>\n",
       "      <td>I absolutly love my Azera. The performance is...</td>\n",
       "      <td>5.000</td>\n",
       "    </tr>\n",
       "    <tr>\n",
       "      <th>4</th>\n",
       "      <td>4</td>\n",
       "      <td>on 01/10/17 10:22 AM (PST)</td>\n",
       "      <td>Nick Casper</td>\n",
       "      <td>2006 Hyundai Azera Sedan Limited 4dr Sedan (3....</td>\n",
       "      <td>Good value for luxury</td>\n",
       "      <td>We have had our 2006 Azera from nearly new (3...</td>\n",
       "      <td>4.000</td>\n",
       "    </tr>\n",
       "    <tr>\n",
       "      <th>...</th>\n",
       "      <td>...</td>\n",
       "      <td>...</td>\n",
       "      <td>...</td>\n",
       "      <td>...</td>\n",
       "      <td>...</td>\n",
       "      <td>...</td>\n",
       "      <td>...</td>\n",
       "    </tr>\n",
       "    <tr>\n",
       "      <th>9356</th>\n",
       "      <td>8221</td>\n",
       "      <td>on 07/29/08 14:26 PM (PDT)</td>\n",
       "      <td>Gopi</td>\n",
       "      <td>2008 Hyundai Veracruz SUV Limited 4dr SUV AWD ...</td>\n",
       "      <td>Excellent SUV</td>\n",
       "      <td>Excellent SUV. We went on road trip a week af...</td>\n",
       "      <td>5.000</td>\n",
       "    </tr>\n",
       "    <tr>\n",
       "      <th>9357</th>\n",
       "      <td>8222</td>\n",
       "      <td>on 07/13/08 15:33 PM (PDT)</td>\n",
       "      <td>srr3306</td>\n",
       "      <td>2008 Hyundai Veracruz SUV Limited 4dr SUV (3.8...</td>\n",
       "      <td>Tremendous Value</td>\n",
       "      <td>I traded an Infiniti FX for this car. As a re...</td>\n",
       "      <td>4.375</td>\n",
       "    </tr>\n",
       "    <tr>\n",
       "      <th>9358</th>\n",
       "      <td>8223</td>\n",
       "      <td>on 06/28/08 15:53 PM (PDT)</td>\n",
       "      <td>Robert Nell</td>\n",
       "      <td>2008 Hyundai Veracruz SUV Limited 4dr SUV (3.8...</td>\n",
       "      <td>Own A Lexus rx 330 But Hyundai Veracruz</td>\n",
       "      <td>I got my Veracruz in early April in Florida.I...</td>\n",
       "      <td>4.625</td>\n",
       "    </tr>\n",
       "    <tr>\n",
       "      <th>9359</th>\n",
       "      <td>8224</td>\n",
       "      <td>on 06/16/08 16:03 PM (PDT)</td>\n",
       "      <td>Kelly Collier</td>\n",
       "      <td>2008 Hyundai Veracruz SUV Limited 4dr SUV (3.8...</td>\n",
       "      <td>Great!</td>\n",
       "      <td>We love this vehicle. We have owned Subarus a...</td>\n",
       "      <td>4.875</td>\n",
       "    </tr>\n",
       "    <tr>\n",
       "      <th>9360</th>\n",
       "      <td>8225</td>\n",
       "      <td>on 05/22/08 13:33 PM (PDT)</td>\n",
       "      <td>mike</td>\n",
       "      <td>2008 Hyundai Veracruz SUV SE 4dr SUV (3.8L 6cy...</td>\n",
       "      <td>Good Car for less money</td>\n",
       "      <td>Seems like a good vehicle. We have driven jus...</td>\n",
       "      <td>4.875</td>\n",
       "    </tr>\n",
       "  </tbody>\n",
       "</table>\n",
       "<p>9361 rows × 7 columns</p>\n",
       "</div>"
      ],
      "text/plain": [
       "     Unnamed: 0                  Review_Date        Author_Name  \\\n",
       "0             0   on 03/28/18 20:22 PM (PDT)  Kiowa1@gmail.com    \n",
       "1             1   on 05/02/17 18:03 PM (PDT)            SiGung    \n",
       "2             2   on 05/02/17 18:03 PM (PDT)            SiGung    \n",
       "3             3   on 03/27/17 14:49 PM (PDT)      Kevin Gibson    \n",
       "4             4   on 01/10/17 10:22 AM (PST)       Nick Casper    \n",
       "...         ...                          ...                ...   \n",
       "9356       8221   on 07/29/08 14:26 PM (PDT)              Gopi    \n",
       "9357       8222   on 07/13/08 15:33 PM (PDT)           srr3306    \n",
       "9358       8223   on 06/28/08 15:53 PM (PDT)       Robert Nell    \n",
       "9359       8224   on 06/16/08 16:03 PM (PDT)     Kelly Collier    \n",
       "9360       8225   on 05/22/08 13:33 PM (PDT)              mike    \n",
       "\n",
       "                                          Vehicle_Title  \\\n",
       "0     2006 Hyundai Azera Sedan Limited 4dr Sedan (3....   \n",
       "1     2006 Hyundai Azera Sedan Limited 4dr Sedan (3....   \n",
       "2     2006 Hyundai Azera Sedan Limited 4dr Sedan (3....   \n",
       "3     2006 Hyundai Azera Sedan Limited 4dr Sedan (3....   \n",
       "4     2006 Hyundai Azera Sedan Limited 4dr Sedan (3....   \n",
       "...                                                 ...   \n",
       "9356  2008 Hyundai Veracruz SUV Limited 4dr SUV AWD ...   \n",
       "9357  2008 Hyundai Veracruz SUV Limited 4dr SUV (3.8...   \n",
       "9358  2008 Hyundai Veracruz SUV Limited 4dr SUV (3.8...   \n",
       "9359  2008 Hyundai Veracruz SUV Limited 4dr SUV (3.8...   \n",
       "9360  2008 Hyundai Veracruz SUV SE 4dr SUV (3.8L 6cy...   \n",
       "\n",
       "                                           Review_Title  \\\n",
       "0                                       Excellent Value   \n",
       "1     Don't even waste your time looking much less b...   \n",
       "2                                             Great car   \n",
       "3                                         Best car ever   \n",
       "4                                 Good value for luxury   \n",
       "...                                                 ...   \n",
       "9356                                      Excellent SUV   \n",
       "9357                                   Tremendous Value   \n",
       "9358           Own A Lexus rx 330 But Hyundai Veracruz    \n",
       "9359                                             Great!   \n",
       "9360                            Good Car for less money   \n",
       "\n",
       "                                                 Review  Rating  \n",
       "0      I bought the 2006 Azera Limited in June of 20...   4.000  \n",
       "1      Electrical nightmare.  Dealer cost for repair...   1.000  \n",
       "2      Great car, great ride, would have better mile...   5.000  \n",
       "3      I absolutly love my Azera. The performance is...   5.000  \n",
       "4      We have had our 2006 Azera from nearly new (3...   4.000  \n",
       "...                                                 ...     ...  \n",
       "9356   Excellent SUV. We went on road trip a week af...   5.000  \n",
       "9357   I traded an Infiniti FX for this car. As a re...   4.375  \n",
       "9358   I got my Veracruz in early April in Florida.I...   4.625  \n",
       "9359   We love this vehicle. We have owned Subarus a...   4.875  \n",
       "9360   Seems like a good vehicle. We have driven jus...   4.875  \n",
       "\n",
       "[9361 rows x 7 columns]"
      ]
     },
     "execution_count": 7,
     "metadata": {},
     "output_type": "execute_result"
    }
   ],
   "source": [
    "dd"
   ]
  },
  {
   "cell_type": "code",
   "execution_count": 11,
   "metadata": {},
   "outputs": [],
   "source": [
    "all_review['Плюс или Минус']  = all_review['Rating']>3\n"
   ]
  },
  {
   "cell_type": "code",
   "execution_count": 12,
   "metadata": {},
   "outputs": [
    {
     "name": "stderr",
     "output_type": "stream",
     "text": [
      "/var/folders/4c/gl255b9x76z020j9qvyqkbc00000gn/T/ipykernel_6539/2980285318.py:2: SettingWithCopyWarning: \n",
      "A value is trying to be set on a copy of a slice from a DataFrame.\n",
      "Try using .loc[row_indexer,col_indexer] = value instead\n",
      "\n",
      "See the caveats in the documentation: https://pandas.pydata.org/pandas-docs/stable/user_guide/indexing.html#returning-a-view-versus-a-copy\n",
      "  review['Название'] = all_review['Review']\n"
     ]
    }
   ],
   "source": [
    "review = all_review[['Плюс или Минус']]\n",
    "review['Название'] = all_review['Review']\n",
    "review = review[::6].reset_index()"
   ]
  },
  {
   "cell_type": "code",
   "execution_count": 13,
   "metadata": {},
   "outputs": [
    {
     "data": {
      "text/plain": [
       "array([ 3. ,  3.1,  3.2,  3.3,  3.4,  3.5,  3.6,  3.7,  3.8,  3.9,  4. ,\n",
       "        4.1,  4.2,  4.3,  4.4,  4.5,  4.6,  4.7,  4.8,  4.9,  5. ,  5.1,\n",
       "        5.2,  5.3,  5.4,  5.5,  5.6,  5.7,  5.8,  5.9,  6. ,  6.1,  6.2,\n",
       "        6.3,  6.4,  6.5,  6.6,  6.7,  6.8,  6.9,  7. ,  7.1,  7.2,  7.3,\n",
       "        7.4,  7.5,  7.6,  7.7,  7.8,  7.9,  8. ,  8.1,  8.2,  8.3,  8.4,\n",
       "        8.5,  8.6,  8.7,  8.8,  8.9,  9. ,  9.1,  9.2,  9.3,  9.4,  9.5,\n",
       "        9.6,  9.7,  9.8,  9.9, 10. , 10.1, 10.2, 10.3, 10.4, 10.5, 10.6,\n",
       "       10.7, 10.8, 10.9, 11. , 11.1, 11.2, 11.3, 11.4, 11.5, 11.6, 11.7,\n",
       "       11.8, 11.9, 12. , 12.1, 12.2, 12.3, 12.4, 12.5, 12.6, 12.7, 12.8,\n",
       "       12.9, 13. , 13.1, 13.2, 13.3, 13.4, 13.5, 13.6, 13.7, 13.8, 13.9,\n",
       "       14. , 14.1, 14.2, 14.3, 14.4, 14.5, 14.6, 14.7, 14.8, 14.9, 15. ,\n",
       "       15.1, 15.2, 15.3, 15.4, 15.5, 15.6, 15.7, 15.8, 15.9, 16. , 16.1,\n",
       "       16.2, 16.3, 16.4, 16.5, 16.6, 16.7, 16.8, 16.9, 17. , 17.1, 17.2,\n",
       "       17.3, 17.4, 17.5, 17.6, 17.7, 17.8, 17.9, 18. , 18.1, 18.2, 18.3,\n",
       "       18.4, 18.5, 18.6, 18.7, 18.8, 18.9, 19. , 19.1, 19.2, 19.3, 19.4,\n",
       "       19.5, 19.6, 19.7, 19.8, 19.9])"
      ]
     },
     "execution_count": 13,
     "metadata": {},
     "output_type": "execute_result"
    }
   ],
   "source": [
    "np.array(range(30,200))/10"
   ]
  },
  {
   "cell_type": "code",
   "execution_count": 14,
   "metadata": {},
   "outputs": [],
   "source": [
    "razg = pd.DataFrame()\n",
    "razg['Разгон'] = np.array(range(30,200))/10"
   ]
  },
  {
   "cell_type": "code",
   "execution_count": 15,
   "metadata": {},
   "outputs": [],
   "source": [
    "god = pd.DataFrame()\n",
    "god['Год выпуска'] = list(range(1950,2023))"
   ]
  },
  {
   "cell_type": "code",
   "execution_count": 16,
   "metadata": {},
   "outputs": [],
   "source": [
    "rashod = pd.DataFrame()\n",
    "rashod['Расход'] = np.array(range(1,300))/10"
   ]
  },
  {
   "cell_type": "code",
   "execution_count": 17,
   "metadata": {},
   "outputs": [],
   "source": [
    "probeg = pd.DataFrame()\n",
    "probeg['Пробег'] = np.random.randint(0,200000,5000)"
   ]
  },
  {
   "cell_type": "code",
   "execution_count": 18,
   "metadata": {},
   "outputs": [],
   "source": [
    "vlad = pd.DataFrame()\n",
    "vlad['Количество владельцев'] = list(range(15))"
   ]
  },
  {
   "cell_type": "code",
   "execution_count": 19,
   "metadata": {},
   "outputs": [],
   "source": [
    "kuzov = pd.DataFrame()\n",
    "kuzov['Тип кузова'] = ['Седан','Универсал','Хэтчбек','Лифтбек','Купе','Лимузин','Кабриолет','Внедорожник']"
   ]
  },
  {
   "cell_type": "code",
   "execution_count": 20,
   "metadata": {},
   "outputs": [],
   "source": [
    "privod = pd.DataFrame()\n",
    "privod['Тип привода'] = ['Прямой','Задний','Полный']"
   ]
  },
  {
   "cell_type": "code",
   "execution_count": 22,
   "metadata": {},
   "outputs": [],
   "source": [
    "color = pd.DataFrame()\n",
    "color['Цвет'] = c2['color'].unique()"
   ]
  },
  {
   "cell_type": "code",
   "execution_count": 23,
   "metadata": {},
   "outputs": [],
   "source": [
    "dvig = pd.DataFrame()\n",
    "dvig['Объем двигателя'] = np.array(range(2,100))/10\n",
    "dvig['Тип Двигателя'] = [random.choice(['Бензин' ,'Дизель' ,'Гибрид']) for i in range(98)]"
   ]
  },
  {
   "cell_type": "code",
   "execution_count": 24,
   "metadata": {},
   "outputs": [],
   "source": [
    "option = pd.DataFrame()\n",
    "option['Название опции'] = ('Подогрев сидений, руля, лобового и заднего стекла, форсунок стеклоомывателя, боковых зеркал,Адаптивный круиз контроль,Система стабилизации курсовой устойчивости или динамической стабилизации ESP,Мультимедийная система,Парктроник, камера заднего вида,Электрорегулировка,Бесключевой доступ,LED-освещение,Климат контроль,другоу').split(',')"
   ]
  },
  {
   "cell_type": "code",
   "execution_count": 25,
   "metadata": {},
   "outputs": [
    {
     "data": {
      "text/plain": [
       "'Макар Ильин'"
      ]
     },
     "execution_count": 25,
     "metadata": {},
     "output_type": "execute_result"
    }
   ],
   "source": [
    "from mimesis import Person,Address\n",
    "person = Person('ru')\n",
    "adr = Address('ru')\n",
    "person.full_name() #+ ' '+ person.last_name(gender = 'male')"
   ]
  },
  {
   "cell_type": "code",
   "execution_count": 26,
   "metadata": {},
   "outputs": [
    {
     "data": {
      "text/plain": [
       "array([4, 3, 2, 1, 3, 1, 4, 1, 1, 3, 2, 3, 2, 3, 3, 4, 1, 2, 3, 3, 2, 1,\n",
       "       2, 4, 1, 4, 1, 3, 4, 2, 1, 2, 4, 1, 4, 4, 3, 1, 4, 3, 2, 2, 4, 3,\n",
       "       4, 2, 2, 1, 4, 1])"
      ]
     },
     "execution_count": 26,
     "metadata": {},
     "output_type": "execute_result"
    }
   ],
   "source": [
    "np.random.randint(1,5,50)"
   ]
  },
  {
   "cell_type": "code",
   "execution_count": 27,
   "metadata": {},
   "outputs": [],
   "source": [
    "pols = pd.DataFrame()"
   ]
  },
  {
   "cell_type": "code",
   "execution_count": 74,
   "metadata": {},
   "outputs": [],
   "source": [
    "def random_data(a,b):\n",
    "    return f'{np.random.randint(1,32)}.{np.random.randint(1,13)}.{np.random.randint(a,b)}'"
   ]
  },
  {
   "cell_type": "code",
   "execution_count": 29,
   "metadata": {},
   "outputs": [],
   "source": [
    "pols['Телефон'] = [person.telephone() for i in range(2000)]\n",
    "pols['Почта'] = [person.email() for i in range(2000)]\n",
    "pols['Адрес'] = [adr.street_name() for i in range(2000)]\n",
    "pols['Город'] = [adr.region() for i in range(2000)]\n",
    "pols['ФИО'] = [person.full_name() for i in range(2000)]\n",
    "pols['Дата Рождения'] = [random_data(1950,2003) for i in range(2000)]\n",
    "pols['Количество сделок'] = np.random.randint(0,10,2000)"
   ]
  },
  {
   "cell_type": "code",
   "execution_count": 30,
   "metadata": {},
   "outputs": [
    {
     "data": {
      "text/html": [
       "<div>\n",
       "<style scoped>\n",
       "    .dataframe tbody tr th:only-of-type {\n",
       "        vertical-align: middle;\n",
       "    }\n",
       "\n",
       "    .dataframe tbody tr th {\n",
       "        vertical-align: top;\n",
       "    }\n",
       "\n",
       "    .dataframe thead th {\n",
       "        text-align: right;\n",
       "    }\n",
       "</style>\n",
       "<table border=\"1\" class=\"dataframe\">\n",
       "  <thead>\n",
       "    <tr style=\"text-align: right;\">\n",
       "      <th></th>\n",
       "      <th>Телефон</th>\n",
       "      <th>Почта</th>\n",
       "      <th>Адрес</th>\n",
       "      <th>Город</th>\n",
       "      <th>ФИО</th>\n",
       "      <th>Дата Рождения</th>\n",
       "      <th>Количество сделок</th>\n",
       "    </tr>\n",
       "  </thead>\n",
       "  <tbody>\n",
       "    <tr>\n",
       "      <th>0</th>\n",
       "      <td>+7-(924)-205-08-89</td>\n",
       "      <td>move2025@yahoo.com</td>\n",
       "      <td>Фигурная</td>\n",
       "      <td>Белгородская область</td>\n",
       "      <td>Бьянка Панаева</td>\n",
       "      <td>6.6.1989</td>\n",
       "      <td>5</td>\n",
       "    </tr>\n",
       "    <tr>\n",
       "      <th>1</th>\n",
       "      <td>+7-(968)-991-86-01</td>\n",
       "      <td>rec2006@example.org</td>\n",
       "      <td>Черневская</td>\n",
       "      <td>Марий</td>\n",
       "      <td>Авксентий Янов</td>\n",
       "      <td>12.5.1974</td>\n",
       "      <td>9</td>\n",
       "    </tr>\n",
       "    <tr>\n",
       "      <th>2</th>\n",
       "      <td>+7-(929)-671-11-19</td>\n",
       "      <td>cleaners1917@yandex.com</td>\n",
       "      <td>Шолохова</td>\n",
       "      <td>Кабардино-Балкария</td>\n",
       "      <td>Ириней Гарасимов</td>\n",
       "      <td>19.10.1954</td>\n",
       "      <td>4</td>\n",
       "    </tr>\n",
       "    <tr>\n",
       "      <th>3</th>\n",
       "      <td>+7-(924)-018-58-14</td>\n",
       "      <td>promotes2043@protonmail.com</td>\n",
       "      <td>Порядковая</td>\n",
       "      <td>Амурская область</td>\n",
       "      <td>Фока Сегень</td>\n",
       "      <td>24.2.1960</td>\n",
       "      <td>1</td>\n",
       "    </tr>\n",
       "    <tr>\n",
       "      <th>4</th>\n",
       "      <td>+7-(926)-008-88-48</td>\n",
       "      <td>unavailable1984@example.com</td>\n",
       "      <td>Норильская</td>\n",
       "      <td>Камчатский край</td>\n",
       "      <td>Назар Добролюбов</td>\n",
       "      <td>12.9.1986</td>\n",
       "      <td>5</td>\n",
       "    </tr>\n",
       "    <tr>\n",
       "      <th>...</th>\n",
       "      <td>...</td>\n",
       "      <td>...</td>\n",
       "      <td>...</td>\n",
       "      <td>...</td>\n",
       "      <td>...</td>\n",
       "      <td>...</td>\n",
       "      <td>...</td>\n",
       "    </tr>\n",
       "    <tr>\n",
       "      <th>1995</th>\n",
       "      <td>+7-(909)-736-06-67</td>\n",
       "      <td>galleries1909@yandex.com</td>\n",
       "      <td>Сокольнического Круга</td>\n",
       "      <td>Марий</td>\n",
       "      <td>Ефим Топчиев</td>\n",
       "      <td>2.4.1971</td>\n",
       "      <td>2</td>\n",
       "    </tr>\n",
       "    <tr>\n",
       "      <th>1996</th>\n",
       "      <td>+7-(922)-276-65-21</td>\n",
       "      <td>reply1918@example.org</td>\n",
       "      <td>Адмирала Макарова</td>\n",
       "      <td>Саха</td>\n",
       "      <td>Евсей Сапронов</td>\n",
       "      <td>3.1.1991</td>\n",
       "      <td>4</td>\n",
       "    </tr>\n",
       "    <tr>\n",
       "      <th>1997</th>\n",
       "      <td>+7-(921)-319-10-33</td>\n",
       "      <td>weeks2093@example.com</td>\n",
       "      <td>Авиационная</td>\n",
       "      <td>Хабаровский край</td>\n",
       "      <td>Архипп Коржавин</td>\n",
       "      <td>4.8.1950</td>\n",
       "      <td>3</td>\n",
       "    </tr>\n",
       "    <tr>\n",
       "      <th>1998</th>\n",
       "      <td>+7-(999)-210-10-31</td>\n",
       "      <td>whereas1983@duck.com</td>\n",
       "      <td>Яузская</td>\n",
       "      <td>Иркутская область</td>\n",
       "      <td>Перизат Парфенчикова</td>\n",
       "      <td>29.4.1953</td>\n",
       "      <td>7</td>\n",
       "    </tr>\n",
       "    <tr>\n",
       "      <th>1999</th>\n",
       "      <td>+7-(931)-191-63-98</td>\n",
       "      <td>tries1832@yandex.com</td>\n",
       "      <td>Оборонная</td>\n",
       "      <td>Северная Осетия</td>\n",
       "      <td>Иннокентий Литвинов</td>\n",
       "      <td>3.11.1976</td>\n",
       "      <td>7</td>\n",
       "    </tr>\n",
       "  </tbody>\n",
       "</table>\n",
       "<p>2000 rows × 7 columns</p>\n",
       "</div>"
      ],
      "text/plain": [
       "                 Телефон                        Почта                  Адрес  \\\n",
       "0     +7-(924)-205-08-89           move2025@yahoo.com               Фигурная   \n",
       "1     +7-(968)-991-86-01          rec2006@example.org             Черневская   \n",
       "2     +7-(929)-671-11-19      cleaners1917@yandex.com               Шолохова   \n",
       "3     +7-(924)-018-58-14  promotes2043@protonmail.com             Порядковая   \n",
       "4     +7-(926)-008-88-48  unavailable1984@example.com             Норильская   \n",
       "...                  ...                          ...                    ...   \n",
       "1995  +7-(909)-736-06-67     galleries1909@yandex.com  Сокольнического Круга   \n",
       "1996  +7-(922)-276-65-21        reply1918@example.org      Адмирала Макарова   \n",
       "1997  +7-(921)-319-10-33        weeks2093@example.com            Авиационная   \n",
       "1998  +7-(999)-210-10-31         whereas1983@duck.com                Яузская   \n",
       "1999  +7-(931)-191-63-98         tries1832@yandex.com              Оборонная   \n",
       "\n",
       "                     Город                   ФИО Дата Рождения  \\\n",
       "0     Белгородская область        Бьянка Панаева      6.6.1989   \n",
       "1                    Марий        Авксентий Янов     12.5.1974   \n",
       "2       Кабардино-Балкария      Ириней Гарасимов    19.10.1954   \n",
       "3         Амурская область           Фока Сегень     24.2.1960   \n",
       "4          Камчатский край      Назар Добролюбов     12.9.1986   \n",
       "...                    ...                   ...           ...   \n",
       "1995                 Марий          Ефим Топчиев      2.4.1971   \n",
       "1996                  Саха        Евсей Сапронов      3.1.1991   \n",
       "1997      Хабаровский край       Архипп Коржавин      4.8.1950   \n",
       "1998     Иркутская область  Перизат Парфенчикова     29.4.1953   \n",
       "1999       Северная Осетия   Иннокентий Литвинов     3.11.1976   \n",
       "\n",
       "      Количество сделок  \n",
       "0                     5  \n",
       "1                     9  \n",
       "2                     4  \n",
       "3                     1  \n",
       "4                     5  \n",
       "...                 ...  \n",
       "1995                  2  \n",
       "1996                  4  \n",
       "1997                  3  \n",
       "1998                  7  \n",
       "1999                  7  \n",
       "\n",
       "[2000 rows x 7 columns]"
      ]
     },
     "execution_count": 30,
     "metadata": {},
     "output_type": "execute_result"
    }
   ],
   "source": [
    "pols"
   ]
  },
  {
   "cell_type": "code",
   "execution_count": 31,
   "metadata": {},
   "outputs": [],
   "source": [
    "award_pols = pd.DataFrame()\n",
    "award_pols['Оценщик'] = np.random.randint(1,2001,2000)\n",
    "award_pols['Оцениваемый'] = np.random.randint(1,2001,2000)\n",
    "award_pols['Оценка'] = np.random.randint(0,5,2000)"
   ]
  },
  {
   "cell_type": "code",
   "execution_count": 32,
   "metadata": {},
   "outputs": [
    {
     "data": {
      "text/plain": [
       "['Здравствуйте',\n",
       " 'Вы свободны в',\n",
       " 'Я занят',\n",
       " 'Я уже продал свой',\n",
       " 'Можно скидку в',\n",
       " 'Нет',\n",
       " 'До свидания',\n",
       " 'Я хочу купить',\n",
       " 'Вам удобно встретиться на улице']"
      ]
     },
     "execution_count": 32,
     "metadata": {},
     "output_type": "execute_result"
    }
   ],
   "source": [
    "['Здравствуйте','Вы свободны в', 'Я занят', 'Я уже продал свой', 'Можно скидку в','Нет', 'До свидания', 'Я хочу купить', 'Вам удобно встретиться на улице']"
   ]
  },
  {
   "cell_type": "code",
   "execution_count": 33,
   "metadata": {},
   "outputs": [],
   "source": [
    "mes = []\n",
    "a = list(c1['make'][::100])\n",
    "for i in range(600):\n",
    "    mes.append(f'Вам удобно встретиться на улице {adr.street_name()} ?')\n",
    "for i in range(400):\n",
    "    mes.append(f'Я уже продал свой {a[i]}')\n",
    "for i in range(400):\n",
    "    mes.append(f'Я хочу купить ваш {a[i]}')\n",
    "for i in range(1,90):\n",
    "    mes.append(f'Можно скидку в {i} %')\n",
    "for i in range(300):\n",
    "    mes.append('До свидания')\n",
    "for i in range(300):\n",
    "    mes.append('Здравствуйте')\n",
    "for i in range(500):\n",
    "    mes.append(f'Вы свободны в {np.random.randint(0,24)} ?')\n",
    "for i in range(400):\n",
    "    mes.append('Я занят')\n"
   ]
  },
  {
   "cell_type": "code",
   "execution_count": 34,
   "metadata": {},
   "outputs": [],
   "source": [
    "mesage = pd.DataFrame()\n",
    "mesage['Сообщение'] = mes\n",
    "mesage['Дата'] = [random_data(2007,2023) for i in range(2989)]"
   ]
  },
  {
   "cell_type": "code",
   "execution_count": 35,
   "metadata": {},
   "outputs": [],
   "source": [
    "mesage['Отправитель'] = np.random.randint(1,2001,2989)\n",
    "mesage['Получатель'] = np.random.randint(1,2001,2989)"
   ]
  },
  {
   "cell_type": "code",
   "execution_count": 36,
   "metadata": {},
   "outputs": [],
   "source": [
    "izbr = pd.DataFrame()\n",
    "izbr['id объявления'] = np.random.randint(1,3001,1000)\n",
    "izbr['id пользователя'] = np.random.randint(1,2001,1000)"
   ]
  },
  {
   "cell_type": "code",
   "execution_count": 41,
   "metadata": {},
   "outputs": [],
   "source": [
    "history_price = pd.DataFrame()\n",
    "hp = []\n",
    "hy = []\n",
    "hi = []\n",
    "for i in range(0,884):\n",
    "    year = make_model['year'][i]\n",
    "    pri = np.random.randint(100000,10000000)\n",
    "    st = 0.1*pri\n",
    "    for j in range(1,6):\n",
    "        hi.append(i+1)\n",
    "        hy.append(year-j)\n",
    "        hp.append(pri-j*st)"
   ]
  },
  {
   "cell_type": "code",
   "execution_count": 42,
   "metadata": {},
   "outputs": [],
   "source": [
    "history_price['Id_Марка ТС'] = hi\n",
    "history_price['Год'] = hy\n",
    "history_price['Ср цена'] = hp\n"
   ]
  },
  {
   "cell_type": "code",
   "execution_count": 43,
   "metadata": {},
   "outputs": [
    {
     "data": {
      "text/plain": [
       "0                  BMW 316\n",
       "1          Volkswagen Golf\n",
       "2                SEAT Exeo\n",
       "3           Renault Megane\n",
       "4              Peugeot 308\n",
       "              ...         \n",
       "879    Mercedes-Benz S 260\n",
       "880             Kia e-Niro\n",
       "881            Alpine A110\n",
       "882                BMW iX3\n",
       "883           Nissan NV250\n",
       "Length: 884, dtype: object"
      ]
     },
     "execution_count": 43,
     "metadata": {},
     "output_type": "execute_result"
    }
   ],
   "source": [
    "make_model['make'] +' '+ make_model['model']"
   ]
  },
  {
   "cell_type": "code",
   "execution_count": 46,
   "metadata": {},
   "outputs": [],
   "source": [
    "hist_search = pd.DataFrame()\n",
    "ase = []\n",
    "ain = []\n",
    "for i in range(1,3001):\n",
    "    ase.append((make_model['make'] +' '+ make_model['model'])[np.random.randint(0,884)])\n",
    "    ain.append(np.random.randint(1,2001))"
   ]
  },
  {
   "cell_type": "code",
   "execution_count": 47,
   "metadata": {},
   "outputs": [],
   "source": [
    "hist_search['История поиска'] = ase\n",
    "hist_search['id пользователя'] = ain\n"
   ]
  },
  {
   "cell_type": "code",
   "execution_count": 48,
   "metadata": {},
   "outputs": [],
   "source": [
    "izbr = pd.DataFrame()\n",
    "izbr['id объявления'] = [np.random.randint(1,3001) for i in range(6000)]\n",
    "izbr['id пользователя'] = [np.random.randint(1,2001) for i in range(6000)]\n"
   ]
  },
  {
   "cell_type": "code",
   "execution_count": 49,
   "metadata": {},
   "outputs": [],
   "source": [
    "obiav = pd.DataFrame()"
   ]
  },
  {
   "cell_type": "code",
   "execution_count": 50,
   "metadata": {},
   "outputs": [],
   "source": [
    "obiav['id владельца'] = [np.random.randint(1,2001) for i in range(3000)]\n",
    "obiav['Количество просмотров'] = [np.random.randint(0,1000) for i in range(3000)]\n",
    "obiav['Дата'] = [random_data(2018,2022) for i in range(3000)]"
   ]
  },
  {
   "cell_type": "code",
   "execution_count": 51,
   "metadata": {},
   "outputs": [],
   "source": [
    "obiav['Цена'] = [np.random.randint(100000,100000000) for i in range(3000)]"
   ]
  },
  {
   "cell_type": "markdown",
   "metadata": {},
   "source": [
    "# Pesok"
   ]
  },
  {
   "cell_type": "code",
   "execution_count": 52,
   "metadata": {},
   "outputs": [
    {
     "ename": "NameError",
     "evalue": "name 'option_perehod' is not defined",
     "output_type": "error",
     "traceback": [
      "\u001B[0;31m---------------------------------------------------------------------------\u001B[0m",
      "\u001B[0;31mNameError\u001B[0m                                 Traceback (most recent call last)",
      "Input \u001B[0;32mIn [52]\u001B[0m, in \u001B[0;36m<module>\u001B[0;34m\u001B[0m\n\u001B[1;32m     18\u001B[0m history_price\u001B[38;5;66;03m#История цены\u001B[39;00m\n\u001B[1;32m     19\u001B[0m hist_search\u001B[38;5;66;03m# Istoria poiska\u001B[39;00m\n\u001B[0;32m---> 20\u001B[0m \u001B[43moption_perehod\u001B[49m,option\n",
      "\u001B[0;31mNameError\u001B[0m: name 'option_perehod' is not defined"
     ]
    }
   ],
   "source": [
    "obiav#Оъявление\n",
    "mesage#сообщение\n",
    "izbr\n",
    "pols#Пользователи\n",
    "awards#Оценки Марки\n",
    "award_pols\n",
    "hist_search\n",
    "vlad#Количество влад\n",
    "make_model#Марка ТС\n",
    "razg#Разгон\n",
    "god#Год выпуска\n",
    "rashod#Расход \n",
    "kuzov#Кузов\n",
    "dvig#Двигатель\n",
    "privod#Привод\n",
    "color#Цвет\n",
    "review#Плюсы и минусы\n",
    "history_price#История цены\n",
    "hist_search# Istoria poiska\n",
    "option_perehod,option# option\n",
    "\n",
    "\n",
    "\n",
    "\n",
    "#TC"
   ]
  },
  {
   "cell_type": "code",
   "execution_count": 53,
   "metadata": {},
   "outputs": [],
   "source": [
    "option = pd.DataFrame()\n",
    "option['Название опции'] = ('Подогрев сидений,Подогрев руля,Подогрев лобового и заднего стекла, форсунок стеклоомывателя, боковых зеркал,Адаптивный круиз контроль,Система стабилизации курсовой устойчивости или динамической стабилизации ESP,Мультимедийная система,Парктроник, камера заднего вида,Электрорегулировка,Бесключевой доступ,LED-освещение,Климат контроль,другоу').split(',')"
   ]
  },
  {
   "cell_type": "code",
   "execution_count": 54,
   "metadata": {},
   "outputs": [],
   "source": [
    "option_perehod = pd.DataFrame()"
   ]
  },
  {
   "cell_type": "code",
   "execution_count": 55,
   "metadata": {},
   "outputs": [],
   "source": [
    "option_perehod['id ТС'] = [np.random.randint(1,3001) for i in range(4000)]\n",
    "option_perehod['id опции'] = [np.random.randint(1,15) for i in range(4000)]"
   ]
  },
  {
   "cell_type": "code",
   "execution_count": 56,
   "metadata": {},
   "outputs": [],
   "source": [
    "option_perehod = option_perehod.drop_duplicates()"
   ]
  },
  {
   "cell_type": "code",
   "execution_count": 57,
   "metadata": {},
   "outputs": [],
   "source": [
    "\n",
    "\n",
    "pols = pols[['ФИО','Телефон','Адрес','Почта','Количество сделок','Дата Рождения']]\n",
    "#pols.drop(['Дата рождения'],axis = 1,inplace = True)"
   ]
  },
  {
   "cell_type": "code",
   "execution_count": 75,
   "metadata": {},
   "outputs": [
    {
     "name": "stderr",
     "output_type": "stream",
     "text": [
      "/var/folders/4c/gl255b9x76z020j9qvyqkbc00000gn/T/ipykernel_6539/1842811865.py:1: SettingWithCopyWarning: \n",
      "A value is trying to be set on a copy of a slice from a DataFrame.\n",
      "Try using .loc[row_indexer,col_indexer] = value instead\n",
      "\n",
      "See the caveats in the documentation: https://pandas.pydata.org/pandas-docs/stable/user_guide/indexing.html#returning-a-view-versus-a-copy\n",
      "  pols['Дата Рождения'] = [random_data(1950,2003) for i in range(2000)]\n"
     ]
    }
   ],
   "source": [
    "pols['Дата Рождения'] = [random_data(1950,2003) for i in range(2000)]"
   ]
  },
  {
   "cell_type": "code",
   "execution_count": 76,
   "metadata": {},
   "outputs": [],
   "source": [
    "def conv_time(x):\n",
    "    ar = x.split('.')\n",
    "    ret = ''\n",
    "    if int(ar[0])>9:\n",
    "        ret = ret+ar[0]\n",
    "    else:\n",
    "        ret = ret+'0'+ar[0]\n",
    "    ret = '-'+ret\n",
    "    if int(ar[1])>9:\n",
    "        ret = ar[1]+ret\n",
    "    else:\n",
    "        ret = '0'+ar[1]+ret\n",
    "    return ar[2]+'-'+ret"
   ]
  },
  {
   "cell_type": "code",
   "execution_count": 77,
   "metadata": {},
   "outputs": [
    {
     "data": {
      "text/plain": [
       "'1976-01-03'"
      ]
     },
     "execution_count": 77,
     "metadata": {},
     "output_type": "execute_result"
    }
   ],
   "source": [
    "conv_time('3.1.1976')"
   ]
  },
  {
   "cell_type": "code",
   "execution_count": 78,
   "metadata": {},
   "outputs": [
    {
     "name": "stderr",
     "output_type": "stream",
     "text": [
      "/var/folders/4c/gl255b9x76z020j9qvyqkbc00000gn/T/ipykernel_6539/4152608575.py:1: SettingWithCopyWarning: \n",
      "A value is trying to be set on a copy of a slice from a DataFrame.\n",
      "Try using .loc[row_indexer,col_indexer] = value instead\n",
      "\n",
      "See the caveats in the documentation: https://pandas.pydata.org/pandas-docs/stable/user_guide/indexing.html#returning-a-view-versus-a-copy\n",
      "  pols['Дата Рождения'] = pols['Дата Рождения'].apply(conv_time)\n"
     ]
    }
   ],
   "source": [
    "pols['Дата Рождения'] = pols['Дата Рождения'].apply(conv_time)"
   ]
  },
  {
   "cell_type": "code",
   "execution_count": 80,
   "metadata": {},
   "outputs": [],
   "source": [
    "pols.to_csv('./DBS/Пользователь.csv',index=False)"
   ]
  },
  {
   "cell_type": "code",
   "execution_count": null,
   "metadata": {},
   "outputs": [],
   "source": []
  }
 ],
 "metadata": {
  "kernelspec": {
   "display_name": "Python 3 (ipykernel)",
   "language": "python",
   "name": "python3"
  },
  "language_info": {
   "codemirror_mode": {
    "name": "ipython",
    "version": 3
   },
   "file_extension": ".py",
   "mimetype": "text/x-python",
   "name": "python",
   "nbconvert_exporter": "python",
   "pygments_lexer": "ipython3",
   "version": "3.9.7"
  },
  "varInspector": {
   "cols": {
    "lenName": 16,
    "lenType": 16,
    "lenVar": 40
   },
   "kernels_config": {
    "python": {
     "delete_cmd_postfix": "",
     "delete_cmd_prefix": "del ",
     "library": "var_list.py",
     "varRefreshCmd": "print(var_dic_list())"
    },
    "r": {
     "delete_cmd_postfix": ") ",
     "delete_cmd_prefix": "rm(",
     "library": "var_list.r",
     "varRefreshCmd": "cat(var_dic_list()) "
    }
   },
   "types_to_exclude": [
    "module",
    "function",
    "builtin_function_or_method",
    "instance",
    "_Feature"
   ],
   "window_display": false
  }
 },
 "nbformat": 4,
 "nbformat_minor": 1
}